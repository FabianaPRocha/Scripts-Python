{
  "cells": [
    {
      "cell_type": "markdown",
      "metadata": {
        "id": "q3is88balOBD"
      },
      "source": [
        "# Trabalhando com Estruturas Condicionais"
      ]
    },
    {
      "cell_type": "code",
      "execution_count": 1,
      "metadata": {
        "colab": {
          "base_uri": "https://localhost:8080/"
        },
        "id": "V06ANN0UlOBE",
        "outputId": "923a2e79-fc99-4688-8bd1-f708389b76a2"
      },
      "outputs": [
        {
          "output_type": "execute_result",
          "data": {
            "text/plain": [
              "True"
            ]
          },
          "metadata": {},
          "execution_count": 1
        }
      ],
      "source": [
        "# Retorno boleano\n",
        "10 > 1"
      ]
    },
    {
      "cell_type": "code",
      "execution_count": 4,
      "metadata": {
        "colab": {
          "base_uri": "https://localhost:8080/"
        },
        "id": "_6bKDMqAlOBF",
        "outputId": "6ac03f50-b7a4-424d-a618-24d60b5dc0cb"
      },
      "outputs": [
        {
          "output_type": "execute_result",
          "data": {
            "text/plain": [
              "False"
            ]
          },
          "metadata": {},
          "execution_count": 4
        }
      ],
      "source": [
        "# Retorno boleano\n",
        "5 <= 4"
      ]
    },
    {
      "cell_type": "code",
      "execution_count": 5,
      "metadata": {
        "colab": {
          "base_uri": "https://localhost:8080/"
        },
        "id": "D9EViw69lOBG",
        "outputId": "da58f40c-ef94-4295-b718-a229d4b9bdd2"
      },
      "outputs": [
        {
          "output_type": "stream",
          "name": "stdout",
          "text": [
            "Verdadeiro\n",
            "3\n",
            "Ultimo comando\n"
          ]
        }
      ],
      "source": [
        "# Se a instrução for verdadeira, executa as instruçãos seguintes.\n",
        "if 10 > 1:\n",
        "    print ('Verdadeiro')\n",
        "    print (1 + 2)\n",
        "    print (\"Ultimo comando\")"
      ]
    },
    {
      "cell_type": "code",
      "execution_count": 6,
      "metadata": {
        "colab": {
          "base_uri": "https://localhost:8080/"
        },
        "id": "EHVpGaAllOBG",
        "outputId": "3212f1e8-bd19-41d0-fd32-e467e59a7d7d"
      },
      "outputs": [
        {
          "output_type": "stream",
          "name": "stdout",
          "text": [
            "Verdadeiro\n"
          ]
        }
      ],
      "source": [
        "# Cuidado com identação !!\n",
        "if 10 > 1:\n",
        "    print (\"Verdadeiro\")"
      ]
    },
    {
      "cell_type": "markdown",
      "metadata": {
        "id": "e8deA9Y4lOBG"
      },
      "source": [
        "# Instrução ELSE"
      ]
    },
    {
      "cell_type": "code",
      "execution_count": 7,
      "metadata": {
        "collapsed": true,
        "id": "nSF8rr5tlOBH"
      },
      "outputs": [],
      "source": [
        "# A instrução ELSE é executada caso a instrução IF for FALSA"
      ]
    },
    {
      "cell_type": "code",
      "execution_count": 8,
      "metadata": {
        "colab": {
          "base_uri": "https://localhost:8080/"
        },
        "id": "8VPB5FQWlOBH",
        "outputId": "a83945bb-e374-4bed-ecab-6d6b9c422ccb"
      },
      "outputs": [
        {
          "output_type": "stream",
          "name": "stdout",
          "text": [
            "Falso\n"
          ]
        }
      ],
      "source": [
        "# Instrução else\n",
        "if 10 > 20:\n",
        "   print (\"Verdadeiro\")\n",
        "else:\n",
        "   print (\"Falso\")"
      ]
    },
    {
      "cell_type": "code",
      "execution_count": 9,
      "metadata": {
        "collapsed": true,
        "id": "fK8js8oZlOBH"
      },
      "outputs": [],
      "source": [
        "# Quando usamos operador OR basta UMA condição ser verdadeira para toda condição ser verdadeira"
      ]
    },
    {
      "cell_type": "code",
      "execution_count": 10,
      "metadata": {
        "colab": {
          "base_uri": "https://localhost:8080/"
        },
        "id": "8I0aeLGFlOBI",
        "outputId": "4def3e09-c2c1-4116-8ae1-e24e9a710748"
      },
      "outputs": [
        {
          "output_type": "stream",
          "name": "stdout",
          "text": [
            "Olá Rodrigo, seja bem vindo!\n"
          ]
        }
      ],
      "source": [
        "# Testando o Operador Lógico OR\n",
        "Nome = 'Rodrigo'\n",
        "\n",
        "if 10 > 100 or Nome == 'Rodrigo':\n",
        "    print (\"Olá Rodrigo, seja bem vindo!\")\n",
        "else:\n",
        "    print (\"Você Não é o Rodrigo\")"
      ]
    },
    {
      "cell_type": "code",
      "execution_count": 11,
      "metadata": {
        "colab": {
          "base_uri": "https://localhost:8080/"
        },
        "id": "7tUgz4mwlOBI",
        "outputId": "4b677777-b857-407d-9869-04a2d5d0a3ef"
      },
      "outputs": [
        {
          "output_type": "stream",
          "name": "stdout",
          "text": [
            "Você Não é o Rodrigo\n"
          ]
        }
      ],
      "source": [
        "# Testando o Operador AND. (As duas condições devem ser verdadeiras)\n",
        "if 10 > 100 and Nome == 'Rodrigo':\n",
        "    print (\"Olá Rodrigo, seja bem vindo!\")\n",
        "else:\n",
        "    print (\"Você Não é o Rodrigo\")"
      ]
    },
    {
      "cell_type": "markdown",
      "metadata": {
        "id": "yZtCrhy0lOBI"
      },
      "source": [
        "# Entendendo a instrução ELIF"
      ]
    },
    {
      "cell_type": "code",
      "execution_count": 12,
      "metadata": {
        "collapsed": true,
        "id": "oi5S0GlIlOBI"
      },
      "outputs": [],
      "source": [
        "# A instrução ELIF é acionada caso a instrução IF for falsa!\n",
        "# A instrução ELIF é uma instrução do tipo SENão Se\n",
        "valor = 40"
      ]
    },
    {
      "cell_type": "code",
      "execution_count": 14,
      "metadata": {
        "colab": {
          "base_uri": "https://localhost:8080/",
          "height": 106
        },
        "id": "3cS74ku4lOBI",
        "outputId": "df97291e-3657-48ac-9a18-7a31d2085852"
      },
      "outputs": [
        {
          "output_type": "error",
          "ename": "SyntaxError",
          "evalue": "expected ':' (<ipython-input-14-f17a016ab181>, line 8)",
          "traceback": [
            "\u001b[0;36m  File \u001b[0;32m\"<ipython-input-14-f17a016ab181>\"\u001b[0;36m, line \u001b[0;32m8\u001b[0m\n\u001b[0;31m    elif valor\u001b[0m\n\u001b[0m               ^\u001b[0m\n\u001b[0;31mSyntaxError\u001b[0m\u001b[0;31m:\u001b[0m expected ':'\n"
          ]
        }
      ],
      "source": [
        "# Entendendo a instrução Elif.\n",
        "if valor > 100:\n",
        "   print (\"OK, Valor Maior que 100! \")\n",
        "elif valor > 50:\n",
        "   print (\"Ok, Valor é maior que 50!\")\n",
        "elif valor > 40:\n",
        "    print (\"outra mensagem\")\n",
        "elif valor\n",
        "else:\n",
        "    print (\"Operação inválida, valores devem ser maiores que 50.\")"
      ]
    },
    {
      "cell_type": "markdown",
      "metadata": {
        "id": "hOZQS_TXlOBJ"
      },
      "source": [
        "# Instruções IF aninhadas"
      ]
    },
    {
      "cell_type": "code",
      "execution_count": 15,
      "metadata": {
        "collapsed": true,
        "id": "lcy6HShVlOBJ"
      },
      "outputs": [],
      "source": [
        "usuario = 'Felipe'\n",
        "senha = 'abc'"
      ]
    },
    {
      "cell_type": "code",
      "execution_count": 16,
      "metadata": {
        "colab": {
          "base_uri": "https://localhost:8080/",
          "height": 106
        },
        "id": "vt81KLIBlOBJ",
        "outputId": "4e47ce37-beff-40c1-95a8-3d18cd01823b"
      },
      "outputs": [
        {
          "output_type": "error",
          "ename": "SyntaxError",
          "evalue": "invalid syntax (<ipython-input-16-c2c1761faf15>, line 6)",
          "traceback": [
            "\u001b[0;36m  File \u001b[0;32m\"<ipython-input-16-c2c1761faf15>\"\u001b[0;36m, line \u001b[0;32m6\u001b[0m\n\u001b[0;31m    if\u001b[0m\n\u001b[0m       ^\u001b[0m\n\u001b[0;31mSyntaxError\u001b[0m\u001b[0;31m:\u001b[0m invalid syntax\n"
          ]
        }
      ],
      "source": [
        "if usuario == 'Rodrigo':\n",
        "    if senha == 'data_science':\n",
        "        print (\"Ok, tudo certo\")\n",
        "    else:\n",
        "        print (\"Nome de usuário correto, você esqueceu a senha?\")\n",
        "    if\n",
        "else:\n",
        "    print (\"Nome de Usuário inválido!!\")"
      ]
    }
  ],
  "metadata": {
    "kernelspec": {
      "display_name": "Python 3",
      "language": "python",
      "name": "python3"
    },
    "language_info": {
      "codemirror_mode": {
        "name": "ipython",
        "version": 3
      },
      "file_extension": ".py",
      "mimetype": "text/x-python",
      "name": "python",
      "nbconvert_exporter": "python",
      "pygments_lexer": "ipython3",
      "version": "3.7.3"
    },
    "colab": {
      "provenance": []
    }
  },
  "nbformat": 4,
  "nbformat_minor": 0
}