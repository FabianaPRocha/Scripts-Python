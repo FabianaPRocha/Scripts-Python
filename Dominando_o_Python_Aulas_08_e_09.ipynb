{
  "cells": [
    {
      "cell_type": "markdown",
      "metadata": {
        "id": "qeBbWDGIfEmP"
      },
      "source": [
        "# Trabalhando com Tuplas"
      ]
    },
    {
      "cell_type": "code",
      "execution_count": 1,
      "metadata": {
        "collapsed": true,
        "id": "-E3q1-8UfEmQ"
      },
      "outputs": [],
      "source": [
        "# Tuplas usam parênteses como sintaxe\n",
        "tupla1 = ()"
      ]
    },
    {
      "cell_type": "code",
      "execution_count": 2,
      "metadata": {
        "colab": {
          "base_uri": "https://localhost:8080/"
        },
        "id": "tyTQppDwfEmR",
        "outputId": "5bba3064-b66e-4edc-f7fb-d0e91221cf91"
      },
      "outputs": [
        {
          "output_type": "execute_result",
          "data": {
            "text/plain": [
              "()"
            ]
          },
          "metadata": {},
          "execution_count": 2
        }
      ],
      "source": [
        "tupla1"
      ]
    },
    {
      "cell_type": "code",
      "execution_count": 4,
      "metadata": {
        "collapsed": true,
        "id": "jVYg1ovkfEmS"
      },
      "outputs": [],
      "source": [
        "tupla1 = ('Ferrari','Onça',17.900,500000)"
      ]
    },
    {
      "cell_type": "code",
      "execution_count": 5,
      "metadata": {
        "colab": {
          "base_uri": "https://localhost:8080/"
        },
        "id": "N2O7hkpyfEmT",
        "outputId": "e4dca207-bd59-449d-e9b2-030dd628a785"
      },
      "outputs": [
        {
          "output_type": "execute_result",
          "data": {
            "text/plain": [
              "('Ferrari', 'Onça', 17.9, 500000)"
            ]
          },
          "metadata": {},
          "execution_count": 5
        }
      ],
      "source": [
        "tupla1"
      ]
    },
    {
      "cell_type": "code",
      "execution_count": 6,
      "metadata": {
        "collapsed": true,
        "id": "D3wz_0rzfEmT"
      },
      "outputs": [],
      "source": [
        "# Python 3 aceita criação de uma tupla sem usar a virgula\n",
        "tupla = (10)"
      ]
    },
    {
      "cell_type": "code",
      "execution_count": 7,
      "metadata": {
        "colab": {
          "base_uri": "https://localhost:8080/"
        },
        "id": "Q2vcC7rIfEmT",
        "outputId": "6fc16c0b-667c-4004-c367-2147d10edea0"
      },
      "outputs": [
        {
          "output_type": "execute_result",
          "data": {
            "text/plain": [
              "('Ferrari', 17.9, 500000)"
            ]
          },
          "metadata": {},
          "execution_count": 7
        }
      ],
      "source": [
        "# Imprimindo elementos da tupla a partir das posições\n",
        "tupla1[0], tupla1[2], tupla1[3]"
      ]
    },
    {
      "cell_type": "code",
      "execution_count": 8,
      "metadata": {
        "colab": {
          "base_uri": "https://localhost:8080/",
          "height": 158
        },
        "id": "XWfCFlgNfEmU",
        "outputId": "1c1fc42b-64d3-49a4-b136-4a39b3ff7e87"
      },
      "outputs": [
        {
          "output_type": "error",
          "ename": "TypeError",
          "evalue": "'tuple' object does not support item assignment",
          "traceback": [
            "\u001b[0;31m---------------------------------------------------------------------------\u001b[0m",
            "\u001b[0;31mTypeError\u001b[0m                                 Traceback (most recent call last)",
            "\u001b[0;32m<ipython-input-8-c81ef3f1bc7d>\u001b[0m in \u001b[0;36m<cell line: 0>\u001b[0;34m()\u001b[0m\n\u001b[1;32m      1\u001b[0m \u001b[0;31m#Tuplas são imutáveis !! (importante)\u001b[0m\u001b[0;34m\u001b[0m\u001b[0;34m\u001b[0m\u001b[0m\n\u001b[0;32m----> 2\u001b[0;31m \u001b[0mtupla1\u001b[0m\u001b[0;34m[\u001b[0m\u001b[0;36m0\u001b[0m\u001b[0;34m]\u001b[0m \u001b[0;34m=\u001b[0m \u001b[0;34m'Porshe'\u001b[0m\u001b[0;34m\u001b[0m\u001b[0;34m\u001b[0m\u001b[0m\n\u001b[0m",
            "\u001b[0;31mTypeError\u001b[0m: 'tuple' object does not support item assignment"
          ]
        }
      ],
      "source": [
        "#Tuplas são imutáveis !! (importante)\n",
        "tupla1[0] = 'Porshe'"
      ]
    },
    {
      "cell_type": "code",
      "execution_count": 10,
      "metadata": {
        "collapsed": true,
        "id": "TtLNHBqUfEmU"
      },
      "outputs": [],
      "source": [
        "# Criaçao de tuplas aninhadas\n",
        "tupla_aninhada = (1,2,3, (23,43,78))"
      ]
    },
    {
      "cell_type": "code",
      "execution_count": 11,
      "metadata": {
        "colab": {
          "base_uri": "https://localhost:8080/"
        },
        "id": "wyrQkqo-fEmV",
        "outputId": "4ad39dfc-68b4-4c51-9b9c-7eab00c60e39"
      },
      "outputs": [
        {
          "output_type": "execute_result",
          "data": {
            "text/plain": [
              "(23, 43, 78)"
            ]
          },
          "metadata": {},
          "execution_count": 11
        }
      ],
      "source": [
        "tupla_aninhada[3]"
      ]
    },
    {
      "cell_type": "code",
      "execution_count": 12,
      "metadata": {
        "colab": {
          "base_uri": "https://localhost:8080/"
        },
        "id": "WVwRAGNofEmV",
        "outputId": "083abbdf-08a0-4e0a-9da2-37df24f2ed81"
      },
      "outputs": [
        {
          "output_type": "execute_result",
          "data": {
            "text/plain": [
              "43"
            ]
          },
          "metadata": {},
          "execution_count": 12
        }
      ],
      "source": [
        "# Acessando o primeiro valor da lista aninhada\n",
        "tupla_aninhada[3][1]"
      ]
    },
    {
      "cell_type": "markdown",
      "metadata": {
        "id": "2iw7RKQlfEmV"
      },
      "source": [
        "# Operações Básicas"
      ]
    },
    {
      "cell_type": "code",
      "execution_count": 13,
      "metadata": {
        "id": "DZO-p0DEfEmV"
      },
      "outputs": [],
      "source": [
        "# Operação de Repetição e criação de nova tupla\n",
        "tupla2 = tupla1 * 3"
      ]
    },
    {
      "cell_type": "code",
      "execution_count": 14,
      "metadata": {
        "scrolled": true,
        "colab": {
          "base_uri": "https://localhost:8080/"
        },
        "id": "lOw6WadJfEmV",
        "outputId": "a045cd75-f53a-476b-db63-6e6911ad5c14"
      },
      "outputs": [
        {
          "output_type": "execute_result",
          "data": {
            "text/plain": [
              "('Ferrari',\n",
              " 'Onça',\n",
              " 17.9,\n",
              " 500000,\n",
              " 'Ferrari',\n",
              " 'Onça',\n",
              " 17.9,\n",
              " 500000,\n",
              " 'Ferrari',\n",
              " 'Onça',\n",
              " 17.9,\n",
              " 500000)"
            ]
          },
          "metadata": {},
          "execution_count": 14
        }
      ],
      "source": [
        "tupla2"
      ]
    },
    {
      "cell_type": "code",
      "execution_count": 15,
      "metadata": {
        "id": "RoTzYILufEmV"
      },
      "outputs": [],
      "source": [
        "# Concatena Tuplas\n",
        "tupla_concatenada = (1, 2, 3) + (4, 5, 6)"
      ]
    },
    {
      "cell_type": "code",
      "execution_count": 16,
      "metadata": {
        "colab": {
          "base_uri": "https://localhost:8080/"
        },
        "id": "NMktN89vfEmV",
        "outputId": "e911121a-12e8-4cb6-e756-633e402b2552"
      },
      "outputs": [
        {
          "output_type": "execute_result",
          "data": {
            "text/plain": [
              "True"
            ]
          },
          "metadata": {},
          "execution_count": 16
        }
      ],
      "source": [
        "# Checa se o elemtno pertence a tupla\n",
        "'Onça' in tupla1"
      ]
    },
    {
      "cell_type": "markdown",
      "metadata": {
        "id": "-OiLLyFKfEmW"
      },
      "source": [
        "# Slicing"
      ]
    },
    {
      "cell_type": "code",
      "execution_count": 17,
      "metadata": {
        "colab": {
          "base_uri": "https://localhost:8080/"
        },
        "id": "_VQkIUpdfEmW",
        "outputId": "df90bc1a-c1ed-4e71-cd06-51b20a04e31c"
      },
      "outputs": [
        {
          "output_type": "execute_result",
          "data": {
            "text/plain": [
              "(17.9, 500000)"
            ]
          },
          "metadata": {},
          "execution_count": 17
        }
      ],
      "source": [
        "# Percorre a tupla do elemento na posição 2 em diante.\n",
        "tupla1[2:]"
      ]
    },
    {
      "cell_type": "code",
      "execution_count": 18,
      "metadata": {
        "colab": {
          "base_uri": "https://localhost:8080/"
        },
        "id": "EYzXuAe4fEmW",
        "outputId": "92148e99-4398-40e8-8c73-b7bca7703bcf"
      },
      "outputs": [
        {
          "output_type": "execute_result",
          "data": {
            "text/plain": [
              "('Onça', 17.9)"
            ]
          },
          "metadata": {},
          "execution_count": 18
        }
      ],
      "source": [
        "# Percorre a tupla do elemtento na posição 1 até o elemento na posição 3\n",
        "tupla1[1:3]"
      ]
    },
    {
      "cell_type": "markdown",
      "metadata": {
        "id": "mi23_BdTfEmW"
      },
      "source": [
        "# Métodos Disponíveis"
      ]
    },
    {
      "cell_type": "code",
      "execution_count": 19,
      "metadata": {
        "colab": {
          "base_uri": "https://localhost:8080/"
        },
        "id": "QUqYcRPVfEmW",
        "outputId": "72cc57d5-50fe-4db4-f940-fde0e50f2279"
      },
      "outputs": [
        {
          "output_type": "execute_result",
          "data": {
            "text/plain": [
              "0"
            ]
          },
          "metadata": {},
          "execution_count": 19
        }
      ],
      "source": [
        "# Conta a frequência de um elemento\n",
        "tupla1.count('elefante')"
      ]
    },
    {
      "cell_type": "code",
      "execution_count": 20,
      "metadata": {
        "colab": {
          "base_uri": "https://localhost:8080/"
        },
        "id": "vR7m4JapfEmW",
        "outputId": "30671e25-133c-4542-aacf-95b913c129cf"
      },
      "outputs": [
        {
          "output_type": "execute_result",
          "data": {
            "text/plain": [
              "2"
            ]
          },
          "metadata": {},
          "execution_count": 20
        }
      ],
      "source": [
        "# Retorna a posição do elemento.\n",
        "tupla1.index(17.9)"
      ]
    },
    {
      "cell_type": "code",
      "execution_count": 21,
      "metadata": {
        "colab": {
          "base_uri": "https://localhost:8080/"
        },
        "id": "GBW0AVgvfEmW",
        "outputId": "6037f3ae-a808-41a7-c7af-166dac1d772c"
      },
      "outputs": [
        {
          "output_type": "execute_result",
          "data": {
            "text/plain": [
              "4"
            ]
          },
          "metadata": {},
          "execution_count": 21
        }
      ],
      "source": [
        "# Retorna o tamanho da tupla\n",
        "len(tupla1)"
      ]
    },
    {
      "cell_type": "code",
      "execution_count": 22,
      "metadata": {
        "colab": {
          "base_uri": "https://localhost:8080/"
        },
        "id": "Rb3sE6OgfEmW",
        "outputId": "6517b1dd-e726-4df8-bf69-0ba19835acc7"
      },
      "outputs": [
        {
          "output_type": "execute_result",
          "data": {
            "text/plain": [
              "128787"
            ]
          },
          "metadata": {},
          "execution_count": 22
        }
      ],
      "source": [
        "# Retorna o maior valor da tupla\n",
        "tupla2 = (2,3,4,128787,90.0)\n",
        "max(tupla2)"
      ]
    },
    {
      "cell_type": "code",
      "execution_count": 23,
      "metadata": {
        "colab": {
          "base_uri": "https://localhost:8080/"
        },
        "id": "U_hoF8N1fEmX",
        "outputId": "92dd7a5a-b3fa-4031-8428-167017358b71"
      },
      "outputs": [
        {
          "output_type": "execute_result",
          "data": {
            "text/plain": [
              "2"
            ]
          },
          "metadata": {},
          "execution_count": 23
        }
      ],
      "source": [
        "# Retorna o menor valor da tupla\n",
        "min(tupla2)"
      ]
    },
    {
      "cell_type": "code",
      "execution_count": 25,
      "metadata": {
        "collapsed": true,
        "id": "9dNXJnLyfEmX"
      },
      "outputs": [],
      "source": [
        "# Criando uma lista\n",
        "lista = [1,3,4,3,89.9,765,'Minerando Dados','DataScience']"
      ]
    },
    {
      "cell_type": "code",
      "execution_count": 27,
      "metadata": {
        "collapsed": true,
        "id": "7Tsg8cZ2fEmX"
      },
      "outputs": [],
      "source": [
        "# Converte uma lista em tupla\n",
        "tupla3 = tuple(lista)"
      ]
    },
    {
      "cell_type": "code",
      "execution_count": 28,
      "metadata": {
        "colab": {
          "base_uri": "https://localhost:8080/"
        },
        "id": "vjGX52cOfEmX",
        "outputId": "38f4dbb7-7087-4b84-cf57-a2fcf9697ca1"
      },
      "outputs": [
        {
          "output_type": "execute_result",
          "data": {
            "text/plain": [
              "tuple"
            ]
          },
          "metadata": {},
          "execution_count": 28
        }
      ],
      "source": [
        "type(tupla3)"
      ]
    },
    {
      "cell_type": "code",
      "execution_count": 29,
      "metadata": {
        "colab": {
          "base_uri": "https://localhost:8080/"
        },
        "id": "wrjNaXNhfEmX",
        "outputId": "4f3465f7-d358-4753-e536-6c3b0981b1c0"
      },
      "outputs": [
        {
          "output_type": "execute_result",
          "data": {
            "text/plain": [
              "(1, 3, 4, 3, 89.9, 765, 'Minerando Dados', 'DataScience')"
            ]
          },
          "metadata": {},
          "execution_count": 29
        }
      ],
      "source": [
        "tupla3"
      ]
    }
  ],
  "metadata": {
    "kernelspec": {
      "display_name": "Python 3",
      "language": "python",
      "name": "python3"
    },
    "language_info": {
      "codemirror_mode": {
        "name": "ipython",
        "version": 3
      },
      "file_extension": ".py",
      "mimetype": "text/x-python",
      "name": "python",
      "nbconvert_exporter": "python",
      "pygments_lexer": "ipython3",
      "version": "3.7.3"
    },
    "colab": {
      "provenance": []
    }
  },
  "nbformat": 4,
  "nbformat_minor": 0
}