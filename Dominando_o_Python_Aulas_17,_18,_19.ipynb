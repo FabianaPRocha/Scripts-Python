{
  "cells": [
    {
      "cell_type": "markdown",
      "metadata": {
        "id": "4UcDC9Mwo75F"
      },
      "source": [
        "# Manipulando Arquivos no Python"
      ]
    },
    {
      "cell_type": "code",
      "execution_count": null,
      "metadata": {
        "id": "6fsu-Abmo75J"
      },
      "outputs": [],
      "source": [
        "# Função nativa open() gera um objeto do tipo arquivo.\n",
        "# Base de dados gratuita 'automobile' https://archive.ics.uci.edu/ml/datasets/Automobile\n",
        "# Download no nosso Github (https://github.com/minerandodados/mdrepo/blob/master/automobile.csv)\n",
        "file = open('automobile.csv','r')"
      ]
    },
    {
      "cell_type": "code",
      "execution_count": null,
      "metadata": {
        "id": "4mdU1-74o75K"
      },
      "outputs": [],
      "source": [
        "# Métodos disponiveis .\n",
        "print (file)"
      ]
    },
    {
      "cell_type": "code",
      "execution_count": null,
      "metadata": {
        "id": "9P_KxofXo75L"
      },
      "outputs": [],
      "source": [
        "# Modos de abertura de arquivos\n",
        "\n",
        "r - Modo padrão de abertura. Permite apenas leitura do arquivo.\n",
        "w - Modo de escrita. Permite escrita no arquivo.\n",
        "a - Modo de escrita do tipo acrescentar. Permite acrescentar informação no final do arquivo."
      ]
    },
    {
      "cell_type": "code",
      "execution_count": null,
      "metadata": {
        "id": "FW4u7ABgo75L"
      },
      "outputs": [],
      "source": [
        "# Lendo varias linhas do arquivo.\n",
        "lista = file.readlines()\n",
        "print (type(lista))"
      ]
    },
    {
      "cell_type": "code",
      "execution_count": null,
      "metadata": {
        "id": "MJdR22qPo75L"
      },
      "outputs": [],
      "source": [
        "for i in lista:\n",
        "    print (i)"
      ]
    },
    {
      "cell_type": "code",
      "execution_count": null,
      "metadata": {
        "id": "jTuwTe39o75L"
      },
      "outputs": [],
      "source": [
        "# Imprime a quantidade de caracteres que contém no arquivo\n",
        "print (file.tell())"
      ]
    },
    {
      "cell_type": "code",
      "execution_count": null,
      "metadata": {
        "id": "vYyBtJcro75M"
      },
      "outputs": [],
      "source": [
        "# Lendo um arquivo\n",
        "file = open('automobile.csv')\n",
        "print (file.read())"
      ]
    },
    {
      "cell_type": "markdown",
      "metadata": {
        "id": "C7frASnvo75M"
      },
      "source": [
        "# Interando sobre um arquivo"
      ]
    },
    {
      "cell_type": "code",
      "execution_count": null,
      "metadata": {
        "id": "PGcgWW7fo75M"
      },
      "outputs": [],
      "source": [
        "type(file)"
      ]
    },
    {
      "cell_type": "code",
      "execution_count": null,
      "metadata": {
        "id": "sHleKZ7Oo75M"
      },
      "outputs": [],
      "source": [
        "# Loops para interação no arquivo ajuda no uso de memória em arquivos grandes\n",
        "file = open('automobile.csv','r')\n",
        "for linha in file:\n",
        "    print (linha)"
      ]
    },
    {
      "cell_type": "markdown",
      "metadata": {
        "id": "WfiaTEcQo75M"
      },
      "source": [
        "# Escrevendo em Arquivos"
      ]
    },
    {
      "cell_type": "code",
      "execution_count": null,
      "metadata": {
        "id": "3md7CRP9o75M"
      },
      "outputs": [],
      "source": [
        "# Abre o arquivo em modo de escrita\n",
        "file2 = open('resultados.txt','w')"
      ]
    },
    {
      "cell_type": "code",
      "execution_count": null,
      "metadata": {
        "id": "yFTOZ48Qo75N"
      },
      "outputs": [],
      "source": [
        "# Usando método write() para escrever no arquivo\n",
        "file2.write(\"Data Science é a profissão do futuro!\")\n",
        "file2.write(\"Minerando Dados a sua comunidade de Data Science.\")"
      ]
    },
    {
      "cell_type": "code",
      "execution_count": null,
      "metadata": {
        "id": "-iatprT2o75N"
      },
      "outputs": [],
      "source": [
        "# Fecha o arquivo com o método close()\n",
        "file2.close()"
      ]
    },
    {
      "cell_type": "code",
      "execution_count": null,
      "metadata": {
        "id": "8cOS-9M7o75N"
      },
      "outputs": [],
      "source": [
        "# Tentando ler o arquivo\n",
        "file2.read()"
      ]
    },
    {
      "cell_type": "code",
      "execution_count": null,
      "metadata": {
        "id": "-GiqeupZo75N"
      },
      "outputs": [],
      "source": [
        "# Abri o arquivo em modo de leitura\n",
        "file2 = open('resultados.txt','r')"
      ]
    },
    {
      "cell_type": "code",
      "execution_count": null,
      "metadata": {
        "id": "cXeU1fcdo75N"
      },
      "outputs": [],
      "source": [
        "# Ler linha a linha\n",
        "file2.readlines()"
      ]
    },
    {
      "cell_type": "code",
      "execution_count": null,
      "metadata": {
        "id": "KxIsTvjGo75N"
      },
      "outputs": [],
      "source": [
        "# Use o modo de abertura 'a' para adicionar linhas no final do arquivo"
      ]
    },
    {
      "cell_type": "code",
      "execution_count": null,
      "metadata": {
        "id": "MKU_wdCpo75N"
      },
      "outputs": [],
      "source": [
        "file2 = open('resultados.txt','a')"
      ]
    },
    {
      "cell_type": "code",
      "execution_count": null,
      "metadata": {
        "id": "xt7UZceko75N"
      },
      "outputs": [],
      "source": [
        "file2.write(\"Ultima linha do arquivo!\")\n",
        "file2.close()"
      ]
    },
    {
      "cell_type": "code",
      "execution_count": null,
      "metadata": {
        "id": "1nG8fT6so75N"
      },
      "outputs": [],
      "source": [
        "file2 = open('resultados.txt','r')\n",
        "file2.readlines()"
      ]
    },
    {
      "cell_type": "markdown",
      "metadata": {
        "id": "ZcchxUa9o75O"
      },
      "source": [
        "# Método writelines()"
      ]
    },
    {
      "cell_type": "code",
      "execution_count": null,
      "metadata": {
        "id": "1jkfJI1uo75O"
      },
      "outputs": [],
      "source": [
        "# O método writelines() permite escrever uma lista de dados no arquivo\n",
        "lista = [\"Manipular arquivos no Python é fácil\",\"Segunda Linha!\",\"Mais uma linha!\"]"
      ]
    },
    {
      "cell_type": "code",
      "execution_count": null,
      "metadata": {
        "id": "jPwMDRYAo75O"
      },
      "outputs": [],
      "source": [
        "# Abre o arquivo para escrita (sobrescreve !!)\n",
        "file2 = open('resultados.txt','w')"
      ]
    },
    {
      "cell_type": "code",
      "execution_count": null,
      "metadata": {
        "id": "XHni5jq3o75O"
      },
      "outputs": [],
      "source": [
        "# Escreve a lista de strings\n",
        "file2.writelines(lista)\n",
        "file2.close()"
      ]
    },
    {
      "cell_type": "code",
      "execution_count": null,
      "metadata": {
        "id": "GY5Do0REo75O"
      },
      "outputs": [],
      "source": [
        "# Abre para leitura e imprime no formato de lista\n",
        "file2 = open('resultados.txt','r')\n",
        "file2.readlines()"
      ]
    },
    {
      "cell_type": "markdown",
      "metadata": {
        "id": "LZC-CjzPo75O"
      },
      "source": [
        "# Trabalhando com a instrução \"with\""
      ]
    },
    {
      "cell_type": "code",
      "execution_count": null,
      "metadata": {
        "id": "V9hq724Fo75O"
      },
      "outputs": [],
      "source": [
        "# Com a instrução with vocẽ não precisa fechar o arquivo explicitamente.\n",
        "# O Python já fecha o arquivo quando os blocos não estão sendo utilizados\n",
        "with open(\"resultados.txt\") as file2:\n",
        "    print (file2.read())"
      ]
    },
    {
      "cell_type": "code",
      "execution_count": null,
      "metadata": {
        "id": "3FFhQcRIo75P"
      },
      "outputs": [],
      "source": [
        "# O arquivo já foi fechado pelo Python!\n",
        "file2.read()"
      ]
    },
    {
      "cell_type": "code",
      "execution_count": null,
      "metadata": {
        "id": "mlFjWjmMo75P"
      },
      "outputs": [],
      "source": [
        "# Cria uma lista com as linhas do arquivo e fecha apos concluir\n",
        "with open(\"automobile.csv\") as file2:\n",
        "    data = file2.readlines()"
      ]
    },
    {
      "cell_type": "code",
      "execution_count": null,
      "metadata": {
        "id": "VtPmkfzwo75P"
      },
      "outputs": [],
      "source": [
        "# Arquivo já fechado!\n",
        "file2.read()"
      ]
    },
    {
      "cell_type": "code",
      "execution_count": null,
      "metadata": {
        "id": "ngOB8ve2o75P"
      },
      "outputs": [],
      "source": [
        "# Imprime a lista\n",
        "data"
      ]
    },
    {
      "cell_type": "markdown",
      "metadata": {
        "id": "t4PcfIUco75Q"
      },
      "source": [
        "# Separando Palavras por Linhas"
      ]
    },
    {
      "cell_type": "code",
      "execution_count": null,
      "metadata": {
        "id": "ZpkXQY1so75Q"
      },
      "outputs": [],
      "source": [
        "for linha in data:\n",
        "    print (linha.split())"
      ]
    }
  ],
  "metadata": {
    "kernelspec": {
      "display_name": "Python 3",
      "language": "python",
      "name": "python3"
    },
    "language_info": {
      "codemirror_mode": {
        "name": "ipython",
        "version": 3
      },
      "file_extension": ".py",
      "mimetype": "text/x-python",
      "name": "python",
      "nbconvert_exporter": "python",
      "pygments_lexer": "ipython3",
      "version": "3.7.3"
    },
    "colab": {
      "provenance": []
    }
  },
  "nbformat": 4,
  "nbformat_minor": 0
}