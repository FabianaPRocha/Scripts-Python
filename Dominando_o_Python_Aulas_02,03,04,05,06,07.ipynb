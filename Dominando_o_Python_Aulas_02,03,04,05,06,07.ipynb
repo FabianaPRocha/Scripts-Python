{
  "cells": [
    {
      "cell_type": "markdown",
      "metadata": {
        "id": "LcCt3qTRRG2V"
      },
      "source": [
        "# MinerandoDados - Linguagem Python"
      ]
    },
    {
      "cell_type": "code",
      "execution_count": null,
      "metadata": {
        "collapsed": true,
        "id": "jsAZsH74RG2X"
      },
      "outputs": [],
      "source": [
        "# Esse é um comentário"
      ]
    },
    {
      "cell_type": "code",
      "execution_count": 92,
      "metadata": {
        "collapsed": true,
        "colab": {
          "base_uri": "https://localhost:8080/"
        },
        "id": "tq9SFn3fRG2X",
        "outputId": "f77cc7db-d3df-4eea-fd41-e8eff4c73507"
      },
      "outputs": [
        {
          "output_type": "stream",
          "name": "stdout",
          "text": [
            "Hello World\n"
          ]
        }
      ],
      "source": [
        "print ('Hello World')"
      ]
    },
    {
      "cell_type": "code",
      "execution_count": 93,
      "metadata": {
        "collapsed": true,
        "colab": {
          "base_uri": "https://localhost:8080/",
          "height": 36
        },
        "id": "vEKkyx3URG2Y",
        "outputId": "9129c560-5f9f-4215-80cf-8ca66cef8a3f"
      },
      "outputs": [
        {
          "output_type": "execute_result",
          "data": {
            "text/plain": [
              "'Hello World'"
            ],
            "application/vnd.google.colaboratory.intrinsic+json": {
              "type": "string"
            }
          },
          "metadata": {},
          "execution_count": 93
        }
      ],
      "source": [
        "'Hello World'"
      ]
    },
    {
      "cell_type": "code",
      "execution_count": 94,
      "metadata": {
        "collapsed": true,
        "id": "vYpPEpsyRG2Y"
      },
      "outputs": [],
      "source": [
        "# Operações Matemáticas. Pressione CTRL + ENTER para executar a célula"
      ]
    },
    {
      "cell_type": "code",
      "execution_count": 95,
      "metadata": {
        "collapsed": true,
        "colab": {
          "base_uri": "https://localhost:8080/"
        },
        "id": "r69FamugRG2Z",
        "outputId": "6c849458-bafd-4d17-d26e-b93f7037da32"
      },
      "outputs": [
        {
          "output_type": "execute_result",
          "data": {
            "text/plain": [
              "12"
            ]
          },
          "metadata": {},
          "execution_count": 95
        }
      ],
      "source": [
        "2 + 10"
      ]
    },
    {
      "cell_type": "code",
      "execution_count": 96,
      "metadata": {
        "collapsed": true,
        "id": "w9cxb7w_RG2Z"
      },
      "outputs": [],
      "source": [
        "# Subtração"
      ]
    },
    {
      "cell_type": "code",
      "execution_count": 98,
      "metadata": {
        "collapsed": true,
        "colab": {
          "base_uri": "https://localhost:8080/"
        },
        "id": "JQALxlCNRG2Z",
        "outputId": "5da86a2b-8c23-4458-f856-d3925fd2b8d7"
      },
      "outputs": [
        {
          "output_type": "execute_result",
          "data": {
            "text/plain": [
              "0"
            ]
          },
          "metadata": {},
          "execution_count": 98
        }
      ],
      "source": [
        "2 - 2"
      ]
    },
    {
      "cell_type": "code",
      "execution_count": 99,
      "metadata": {
        "collapsed": true,
        "id": "6bHaV6haRG2a"
      },
      "outputs": [],
      "source": [
        "# Multiplicação"
      ]
    },
    {
      "cell_type": "code",
      "execution_count": 100,
      "metadata": {
        "collapsed": true,
        "colab": {
          "base_uri": "https://localhost:8080/"
        },
        "id": "HsCGUKgURG2a",
        "outputId": "281ae34b-afc4-4015-9327-de5158e0e22d"
      },
      "outputs": [
        {
          "output_type": "execute_result",
          "data": {
            "text/plain": [
              "4"
            ]
          },
          "metadata": {},
          "execution_count": 100
        }
      ],
      "source": [
        " 2 * 2"
      ]
    },
    {
      "cell_type": "code",
      "execution_count": 101,
      "metadata": {
        "collapsed": true,
        "id": "mPDr-35hRG2b"
      },
      "outputs": [],
      "source": [
        "# Divisão"
      ]
    },
    {
      "cell_type": "code",
      "execution_count": 102,
      "metadata": {
        "collapsed": true,
        "colab": {
          "base_uri": "https://localhost:8080/"
        },
        "id": "nM9pRjV5RG2b",
        "outputId": "70c7f1a8-3bee-4ed0-ecc5-cac8c89c7069"
      },
      "outputs": [
        {
          "output_type": "execute_result",
          "data": {
            "text/plain": [
              "1.0"
            ]
          },
          "metadata": {},
          "execution_count": 102
        }
      ],
      "source": [
        "2 / 2"
      ]
    },
    {
      "cell_type": "code",
      "execution_count": 103,
      "metadata": {
        "collapsed": true,
        "id": "eEsgKcSbRG2b"
      },
      "outputs": [],
      "source": [
        "# Numeros Float"
      ]
    },
    {
      "cell_type": "code",
      "execution_count": 104,
      "metadata": {
        "collapsed": true,
        "colab": {
          "base_uri": "https://localhost:8080/"
        },
        "id": "mRyYEN17RG2b",
        "outputId": "cc164ebf-df12-4745-80a9-3b39210436dd"
      },
      "outputs": [
        {
          "output_type": "execute_result",
          "data": {
            "text/plain": [
              "9.8"
            ]
          },
          "metadata": {},
          "execution_count": 104
        }
      ],
      "source": [
        "3.2 + 6.6"
      ]
    },
    {
      "cell_type": "code",
      "execution_count": 105,
      "metadata": {
        "collapsed": true,
        "colab": {
          "base_uri": "https://localhost:8080/"
        },
        "id": "LYp7xQjORG2b",
        "outputId": "37136c6b-3125-4a72-a26c-629087f1db22"
      },
      "outputs": [
        {
          "output_type": "execute_result",
          "data": {
            "text/plain": [
              "4.4"
            ]
          },
          "metadata": {},
          "execution_count": 105
        }
      ],
      "source": [
        "8.8 / 2"
      ]
    },
    {
      "cell_type": "code",
      "execution_count": 106,
      "metadata": {
        "collapsed": true,
        "colab": {
          "base_uri": "https://localhost:8080/"
        },
        "id": "B4FCXXPzRG2b",
        "outputId": "fb310632-0a8f-4dc7-99f3-489e16b6032d"
      },
      "outputs": [
        {
          "output_type": "execute_result",
          "data": {
            "text/plain": [
              "25.5"
            ]
          },
          "metadata": {},
          "execution_count": 106
        }
      ],
      "source": [
        "10.2 * 2.5"
      ]
    },
    {
      "cell_type": "markdown",
      "metadata": {
        "collapsed": true,
        "id": "vOzrAbEHRG2b"
      },
      "source": [
        "# Funções no Python"
      ]
    },
    {
      "cell_type": "code",
      "execution_count": 107,
      "metadata": {
        "collapsed": true,
        "colab": {
          "base_uri": "https://localhost:8080/"
        },
        "id": "qQrtNEf0RG2c",
        "outputId": "00eb088f-2046-4efd-a6f5-b00e90c97488"
      },
      "outputs": [
        {
          "output_type": "execute_result",
          "data": {
            "text/plain": [
              "int"
            ]
          },
          "metadata": {},
          "execution_count": 107
        }
      ],
      "source": [
        "type(5)"
      ]
    },
    {
      "cell_type": "code",
      "execution_count": 108,
      "metadata": {
        "collapsed": true,
        "colab": {
          "base_uri": "https://localhost:8080/"
        },
        "id": "Ka38S2I1RG2c",
        "outputId": "9d8e62f3-e815-4184-c786-f4403e5fc350"
      },
      "outputs": [
        {
          "output_type": "execute_result",
          "data": {
            "text/plain": [
              "float"
            ]
          },
          "metadata": {},
          "execution_count": 108
        }
      ],
      "source": [
        "type(6.6)"
      ]
    },
    {
      "cell_type": "code",
      "execution_count": 109,
      "metadata": {
        "collapsed": true,
        "colab": {
          "base_uri": "https://localhost:8080/"
        },
        "id": "tSOgSRkDRG2c",
        "outputId": "80816d38-3bdb-4fb2-e915-eee0607a6c1f"
      },
      "outputs": [
        {
          "output_type": "execute_result",
          "data": {
            "text/plain": [
              "str"
            ]
          },
          "metadata": {},
          "execution_count": 109
        }
      ],
      "source": [
        "type(\"Minerando Dados\")"
      ]
    },
    {
      "cell_type": "markdown",
      "metadata": {
        "collapsed": true,
        "id": "UYqW1iCMRG2c"
      },
      "source": [
        "# Funções de Conversão"
      ]
    },
    {
      "cell_type": "code",
      "execution_count": 110,
      "metadata": {
        "collapsed": true,
        "colab": {
          "base_uri": "https://localhost:8080/"
        },
        "id": "PIgyx9xcRG2c",
        "outputId": "f39f53e1-2031-4274-acba-dce8ed8ff127"
      },
      "outputs": [
        {
          "output_type": "execute_result",
          "data": {
            "text/plain": [
              "6"
            ]
          },
          "metadata": {},
          "execution_count": 110
        }
      ],
      "source": [
        "int(6)"
      ]
    },
    {
      "cell_type": "code",
      "execution_count": 111,
      "metadata": {
        "collapsed": true,
        "colab": {
          "base_uri": "https://localhost:8080/"
        },
        "id": "-BB87oxBRG2c",
        "outputId": "d4edfa1f-4d06-4cb2-d55d-50a29ce65a82"
      },
      "outputs": [
        {
          "output_type": "execute_result",
          "data": {
            "text/plain": [
              "6"
            ]
          },
          "metadata": {},
          "execution_count": 111
        }
      ],
      "source": [
        "int(6.5)"
      ]
    },
    {
      "cell_type": "code",
      "execution_count": 112,
      "metadata": {
        "collapsed": true,
        "colab": {
          "base_uri": "https://localhost:8080/"
        },
        "id": "xC-b_ZzWRG2c",
        "outputId": "65a39002-9c83-4f20-9567-8ae081795241"
      },
      "outputs": [
        {
          "output_type": "execute_result",
          "data": {
            "text/plain": [
              "6.5"
            ]
          },
          "metadata": {},
          "execution_count": 112
        }
      ],
      "source": [
        "float(6.5)"
      ]
    },
    {
      "cell_type": "code",
      "execution_count": 113,
      "metadata": {
        "collapsed": true,
        "colab": {
          "base_uri": "https://localhost:8080/"
        },
        "id": "hCIH881ARG2c",
        "outputId": "da5e4238-a144-425d-99f2-5e6f213195cc"
      },
      "outputs": [
        {
          "output_type": "execute_result",
          "data": {
            "text/plain": [
              "6.0"
            ]
          },
          "metadata": {},
          "execution_count": 113
        }
      ],
      "source": [
        "float(6)"
      ]
    },
    {
      "cell_type": "code",
      "execution_count": 114,
      "metadata": {
        "collapsed": true,
        "colab": {
          "base_uri": "https://localhost:8080/",
          "height": 36
        },
        "id": "-d6U9RgHRG2c",
        "outputId": "ca361c6c-fb8d-4a6c-f188-74f72bf0d35d"
      },
      "outputs": [
        {
          "output_type": "execute_result",
          "data": {
            "text/plain": [
              "'5'"
            ],
            "application/vnd.google.colaboratory.intrinsic+json": {
              "type": "string"
            }
          },
          "metadata": {},
          "execution_count": 114
        }
      ],
      "source": [
        "str(5)"
      ]
    },
    {
      "cell_type": "markdown",
      "metadata": {
        "collapsed": true,
        "id": "PmjC4boKRG2c"
      },
      "source": [
        "# Funções de Arredodamento"
      ]
    },
    {
      "cell_type": "code",
      "execution_count": 115,
      "metadata": {
        "colab": {
          "base_uri": "https://localhost:8080/"
        },
        "id": "08WkMpYrRG2d",
        "outputId": "72b1c03f-2db4-43f2-c285-fd5bf6fe90ad"
      },
      "outputs": [
        {
          "output_type": "execute_result",
          "data": {
            "text/plain": [
              "3"
            ]
          },
          "metadata": {},
          "execution_count": 115
        }
      ],
      "source": [
        "round(2.898)"
      ]
    },
    {
      "cell_type": "code",
      "execution_count": 116,
      "metadata": {
        "colab": {
          "base_uri": "https://localhost:8080/"
        },
        "id": "0WTDGkxtRG2d",
        "outputId": "9223cc6f-535b-4458-d4fb-1b75ac2a40c4"
      },
      "outputs": [
        {
          "output_type": "execute_result",
          "data": {
            "text/plain": [
              "2.455"
            ]
          },
          "metadata": {},
          "execution_count": 116
        }
      ],
      "source": [
        "round(2.4545455,3)"
      ]
    },
    {
      "cell_type": "markdown",
      "metadata": {
        "collapsed": true,
        "id": "2d9KzCPnRG2d"
      },
      "source": [
        "# Trabalhando com Variáveis"
      ]
    },
    {
      "cell_type": "code",
      "execution_count": 117,
      "metadata": {
        "collapsed": true,
        "id": "BoMBfzN0RG2d"
      },
      "outputs": [],
      "source": [
        "var1 = 1\n",
        "var2 = 2\n",
        "var3 = 3"
      ]
    },
    {
      "cell_type": "code",
      "execution_count": 118,
      "metadata": {
        "colab": {
          "base_uri": "https://localhost:8080/"
        },
        "id": "T0GGX3FnRG2d",
        "outputId": "b2be3e3a-903b-4583-e632-58a76059c2da"
      },
      "outputs": [
        {
          "output_type": "execute_result",
          "data": {
            "text/plain": [
              "1"
            ]
          },
          "metadata": {},
          "execution_count": 118
        }
      ],
      "source": [
        "var1"
      ]
    },
    {
      "cell_type": "code",
      "execution_count": 119,
      "metadata": {
        "colab": {
          "base_uri": "https://localhost:8080/"
        },
        "id": "RIqF0cPhRG2d",
        "outputId": "9d3b3992-443b-4ea1-9aaa-7cd2cca7ff04"
      },
      "outputs": [
        {
          "output_type": "execute_result",
          "data": {
            "text/plain": [
              "int"
            ]
          },
          "metadata": {},
          "execution_count": 119
        }
      ],
      "source": [
        "type(var1)"
      ]
    },
    {
      "cell_type": "code",
      "execution_count": 30,
      "metadata": {
        "collapsed": true,
        "id": "RAMfAs21RG2d"
      },
      "outputs": [],
      "source": [
        "var4 = 10"
      ]
    },
    {
      "cell_type": "code",
      "execution_count": 120,
      "metadata": {
        "colab": {
          "base_uri": "https://localhost:8080/"
        },
        "id": "Yge9rsFtRG2d",
        "outputId": "0f8929d3-a52f-497b-e35c-195574a3d9ac"
      },
      "outputs": [
        {
          "output_type": "execute_result",
          "data": {
            "text/plain": [
              "10"
            ]
          },
          "metadata": {},
          "execution_count": 120
        }
      ],
      "source": [
        "var4"
      ]
    },
    {
      "cell_type": "code",
      "execution_count": 121,
      "metadata": {
        "colab": {
          "base_uri": "https://localhost:8080/"
        },
        "id": "yVIHf0qWRG2d",
        "outputId": "578a6bd8-6533-4bc8-f5a0-9f49c5f8601f"
      },
      "outputs": [
        {
          "output_type": "execute_result",
          "data": {
            "text/plain": [
              "3"
            ]
          },
          "metadata": {},
          "execution_count": 121
        }
      ],
      "source": [
        "var1 + var2"
      ]
    },
    {
      "cell_type": "code",
      "execution_count": 122,
      "metadata": {
        "collapsed": true,
        "id": "roWMXSVMRG2d"
      },
      "outputs": [],
      "source": [
        "# Reatribuindo um valor a variável var1 graças a TIPAGEM DINÂMICA"
      ]
    },
    {
      "cell_type": "code",
      "execution_count": 123,
      "metadata": {
        "collapsed": true,
        "id": "W7z1RIDBRG2d"
      },
      "outputs": [],
      "source": [
        "var1 = 'Rock Forever'"
      ]
    },
    {
      "cell_type": "code",
      "execution_count": 124,
      "metadata": {
        "colab": {
          "base_uri": "https://localhost:8080/"
        },
        "id": "P97AgYNkRG2d",
        "outputId": "7900eacb-6307-48e0-f566-76351fa637d1"
      },
      "outputs": [
        {
          "output_type": "execute_result",
          "data": {
            "text/plain": [
              "str"
            ]
          },
          "metadata": {},
          "execution_count": 124
        }
      ],
      "source": [
        "type(var1)"
      ]
    },
    {
      "cell_type": "code",
      "execution_count": 125,
      "metadata": {
        "collapsed": true,
        "id": "cZ9rXxxyRG2o"
      },
      "outputs": [],
      "source": [
        "var2 = 6.78"
      ]
    },
    {
      "cell_type": "code",
      "execution_count": 126,
      "metadata": {
        "colab": {
          "base_uri": "https://localhost:8080/"
        },
        "id": "q_WRdwGxRG2o",
        "outputId": "dc1371ed-24c3-4ff7-9d05-783b331d3150"
      },
      "outputs": [
        {
          "output_type": "execute_result",
          "data": {
            "text/plain": [
              "float"
            ]
          },
          "metadata": {},
          "execution_count": 126
        }
      ],
      "source": [
        "type(var2)"
      ]
    },
    {
      "cell_type": "markdown",
      "metadata": {
        "id": "1gOHTbseRG2o"
      },
      "source": [
        "# Operacões Matemáticas e Variáveis"
      ]
    },
    {
      "cell_type": "code",
      "execution_count": 127,
      "metadata": {
        "collapsed": true,
        "id": "KoWAEzqzRG2o"
      },
      "outputs": [],
      "source": [
        "resultado = var2 * 10"
      ]
    },
    {
      "cell_type": "code",
      "execution_count": 40,
      "metadata": {
        "colab": {
          "base_uri": "https://localhost:8080/"
        },
        "id": "St-Ygx7YRG2o",
        "outputId": "4b9f920f-8226-449c-d2d0-aa803af838f1"
      },
      "outputs": [
        {
          "output_type": "execute_result",
          "data": {
            "text/plain": [
              "67.8"
            ]
          },
          "metadata": {},
          "execution_count": 40
        }
      ],
      "source": [
        "resultado"
      ]
    },
    {
      "cell_type": "code",
      "execution_count": 42,
      "metadata": {
        "collapsed": true,
        "id": "M5wX1HEvRG2o"
      },
      "outputs": [],
      "source": [
        "resultado = 200 / 3"
      ]
    },
    {
      "cell_type": "code",
      "execution_count": 43,
      "metadata": {
        "colab": {
          "base_uri": "https://localhost:8080/"
        },
        "id": "uVtw6cbmRG2o",
        "outputId": "18eca706-c476-4b4e-b254-c4d8f21542c6"
      },
      "outputs": [
        {
          "output_type": "execute_result",
          "data": {
            "text/plain": [
              "66.66666666666667"
            ]
          },
          "metadata": {},
          "execution_count": 43
        }
      ],
      "source": [
        "resultado"
      ]
    },
    {
      "cell_type": "code",
      "execution_count": 44,
      "metadata": {
        "collapsed": true,
        "id": "_zMwaSdRRG2o"
      },
      "outputs": [],
      "source": [
        "## Declarando vários valores a variaveis"
      ]
    },
    {
      "cell_type": "code",
      "execution_count": 45,
      "metadata": {
        "collapsed": true,
        "id": "coSZIvPHRG2p"
      },
      "outputs": [],
      "source": [
        "variavel1, variavel2 = 1, 'Teste'"
      ]
    },
    {
      "cell_type": "code",
      "execution_count": 46,
      "metadata": {
        "colab": {
          "base_uri": "https://localhost:8080/"
        },
        "id": "qDY9NJKBRG2p",
        "outputId": "40460805-5cb8-42a5-e32d-19698e923e72"
      },
      "outputs": [
        {
          "output_type": "execute_result",
          "data": {
            "text/plain": [
              "1"
            ]
          },
          "metadata": {},
          "execution_count": 46
        }
      ],
      "source": [
        "variavel1"
      ]
    },
    {
      "cell_type": "code",
      "execution_count": 47,
      "metadata": {
        "colab": {
          "base_uri": "https://localhost:8080/",
          "height": 36
        },
        "id": "YbN_M4OwRG2p",
        "outputId": "867022d7-0ce3-4139-99b6-5e82a8fc1e72"
      },
      "outputs": [
        {
          "output_type": "execute_result",
          "data": {
            "text/plain": [
              "'Teste'"
            ],
            "application/vnd.google.colaboratory.intrinsic+json": {
              "type": "string"
            }
          },
          "metadata": {},
          "execution_count": 47
        }
      ],
      "source": [
        "variavel2"
      ]
    },
    {
      "cell_type": "markdown",
      "metadata": {
        "id": "43WrPCzVRG2p"
      },
      "source": [
        "# Restrições para criação de variáveis"
      ]
    },
    {
      "cell_type": "code",
      "execution_count": 128,
      "metadata": {
        "collapsed": true,
        "id": "fw2upHxsRG2p"
      },
      "outputs": [],
      "source": [
        "variavel_teste = 2"
      ]
    },
    {
      "cell_type": "code",
      "execution_count": 129,
      "metadata": {
        "colab": {
          "base_uri": "https://localhost:8080/"
        },
        "id": "lfPJRuPpRG2p",
        "outputId": "bde2e122-5bc0-42d0-931d-4a10bc1d3533"
      },
      "outputs": [
        {
          "output_type": "execute_result",
          "data": {
            "text/plain": [
              "2"
            ]
          },
          "metadata": {},
          "execution_count": 129
        }
      ],
      "source": [
        "variavel_teste"
      ]
    },
    {
      "cell_type": "code",
      "execution_count": 131,
      "metadata": {
        "collapsed": true,
        "id": "20pxue9vRG2p"
      },
      "outputs": [],
      "source": [
        "var2 = 10"
      ]
    },
    {
      "cell_type": "code",
      "execution_count": null,
      "metadata": {
        "id": "UBKauGFvRG2p"
      },
      "outputs": [],
      "source": [
        "for= 5"
      ]
    },
    {
      "cell_type": "code",
      "execution_count": null,
      "metadata": {
        "collapsed": true,
        "id": "rXJs7Ha0RG2p"
      },
      "outputs": [],
      "source": [
        "# Palavras Reservadas não são permitidas: break, if, else, print etc..."
      ]
    },
    {
      "cell_type": "markdown",
      "metadata": {
        "id": "a2SjoLXBRG2p"
      },
      "source": [
        "# Trabalhando com Strings"
      ]
    },
    {
      "cell_type": "code",
      "execution_count": null,
      "metadata": {
        "collapsed": true,
        "id": "Syw6Y22CRG2q"
      },
      "outputs": [],
      "source": [
        "# Criando uma variável do tipo String"
      ]
    },
    {
      "cell_type": "code",
      "execution_count": 52,
      "metadata": {
        "collapsed": true,
        "id": "rbVAozZdRG2q"
      },
      "outputs": [],
      "source": [
        "frase = 'Python eh uma linguagem sensacional'"
      ]
    },
    {
      "cell_type": "code",
      "execution_count": 53,
      "metadata": {
        "colab": {
          "base_uri": "https://localhost:8080/",
          "height": 36
        },
        "id": "Y6A5S2FpRG2q",
        "outputId": "fb420182-8a55-4e14-bd31-bd99d3e68a62"
      },
      "outputs": [
        {
          "output_type": "execute_result",
          "data": {
            "text/plain": [
              "'Python eh uma linguagem sensacional'"
            ],
            "application/vnd.google.colaboratory.intrinsic+json": {
              "type": "string"
            }
          },
          "metadata": {},
          "execution_count": 53
        }
      ],
      "source": [
        "frase"
      ]
    },
    {
      "cell_type": "code",
      "execution_count": 54,
      "metadata": {
        "collapsed": true,
        "id": "yVYpTnkvRG2q"
      },
      "outputs": [],
      "source": [
        "# Indexando Strings."
      ]
    },
    {
      "cell_type": "code",
      "execution_count": 55,
      "metadata": {
        "colab": {
          "base_uri": "https://localhost:8080/",
          "height": 36
        },
        "id": "-wMtB6SyRG2q",
        "outputId": "fbec0458-5850-4f0b-e46e-805aab3339c8"
      },
      "outputs": [
        {
          "output_type": "execute_result",
          "data": {
            "text/plain": [
              "'P'"
            ],
            "application/vnd.google.colaboratory.intrinsic+json": {
              "type": "string"
            }
          },
          "metadata": {},
          "execution_count": 55
        }
      ],
      "source": [
        "# Importante!! o índice começa com o numero 0.\n",
        "frase[0]"
      ]
    },
    {
      "cell_type": "code",
      "execution_count": 56,
      "metadata": {
        "colab": {
          "base_uri": "https://localhost:8080/",
          "height": 36
        },
        "id": "b6btZDGsRG2q",
        "outputId": "c972c7e6-74ab-47d3-9e43-fbbbcb0df7ad"
      },
      "outputs": [
        {
          "output_type": "execute_result",
          "data": {
            "text/plain": [
              "'y'"
            ],
            "application/vnd.google.colaboratory.intrinsic+json": {
              "type": "string"
            }
          },
          "metadata": {},
          "execution_count": 56
        }
      ],
      "source": [
        "frase[1]"
      ]
    },
    {
      "cell_type": "code",
      "execution_count": 57,
      "metadata": {
        "colab": {
          "base_uri": "https://localhost:8080/",
          "height": 141
        },
        "id": "LPczfdVrRG2q",
        "outputId": "0ddd7e62-c76b-4afb-c2e3-2436d3f87ccc"
      },
      "outputs": [
        {
          "output_type": "error",
          "ename": "TypeError",
          "evalue": "'str' object does not support item assignment",
          "traceback": [
            "\u001b[0;31m---------------------------------------------------------------------------\u001b[0m",
            "\u001b[0;31mTypeError\u001b[0m                                 Traceback (most recent call last)",
            "\u001b[0;32m<ipython-input-57-325ff18d181a>\u001b[0m in \u001b[0;36m<cell line: 0>\u001b[0;34m()\u001b[0m\n\u001b[0;32m----> 1\u001b[0;31m \u001b[0mfrase\u001b[0m\u001b[0;34m[\u001b[0m\u001b[0;36m0\u001b[0m\u001b[0;34m]\u001b[0m \u001b[0;34m=\u001b[0m \u001b[0;34m'R'\u001b[0m\u001b[0;34m\u001b[0m\u001b[0;34m\u001b[0m\u001b[0m\n\u001b[0m",
            "\u001b[0;31mTypeError\u001b[0m: 'str' object does not support item assignment"
          ]
        }
      ],
      "source": [
        "frase[0] = 'R'"
      ]
    },
    {
      "cell_type": "code",
      "execution_count": 58,
      "metadata": {
        "collapsed": true,
        "id": "DLCO6_doRG2q"
      },
      "outputs": [],
      "source": [
        "# Slicing: Percorrendo Strings"
      ]
    },
    {
      "cell_type": "code",
      "execution_count": 59,
      "metadata": {
        "colab": {
          "base_uri": "https://localhost:8080/",
          "height": 36
        },
        "id": "RO9o6bxqRG2q",
        "outputId": "53c9c9d7-4fd7-4156-ecd2-dee2a6cbd703"
      },
      "outputs": [
        {
          "output_type": "execute_result",
          "data": {
            "text/plain": [
              "'Python'"
            ],
            "application/vnd.google.colaboratory.intrinsic+json": {
              "type": "string"
            }
          },
          "metadata": {},
          "execution_count": 59
        }
      ],
      "source": [
        "frase[0:6]"
      ]
    },
    {
      "cell_type": "code",
      "execution_count": 60,
      "metadata": {
        "colab": {
          "base_uri": "https://localhost:8080/",
          "height": 36
        },
        "id": "Tm0HZANWRG2q",
        "outputId": "452b9127-ee1f-4565-af85-e47e99dcfcf2"
      },
      "outputs": [
        {
          "output_type": "execute_result",
          "data": {
            "text/plain": [
              "' eh uma linguagem sensacional'"
            ],
            "application/vnd.google.colaboratory.intrinsic+json": {
              "type": "string"
            }
          },
          "metadata": {},
          "execution_count": 60
        }
      ],
      "source": [
        "frase[6:]"
      ]
    },
    {
      "cell_type": "code",
      "execution_count": 61,
      "metadata": {
        "colab": {
          "base_uri": "https://localhost:8080/",
          "height": 36
        },
        "id": "aV2pifXjRG2r",
        "outputId": "86643e6e-0eee-4d6e-8473-75c920a16787"
      },
      "outputs": [
        {
          "output_type": "execute_result",
          "data": {
            "text/plain": [
              "'Python'"
            ],
            "application/vnd.google.colaboratory.intrinsic+json": {
              "type": "string"
            }
          },
          "metadata": {},
          "execution_count": 61
        }
      ],
      "source": [
        "frase[:6]"
      ]
    },
    {
      "cell_type": "code",
      "execution_count": 62,
      "metadata": {
        "collapsed": true,
        "id": "VxzQGjiVRG2r"
      },
      "outputs": [],
      "source": [
        "# Concatennado Strings"
      ]
    },
    {
      "cell_type": "code",
      "execution_count": 63,
      "metadata": {
        "collapsed": true,
        "id": "QDtNkXtCRG2r"
      },
      "outputs": [],
      "source": [
        "frase1 = 'Python eh uma linguagem fenomenal'"
      ]
    },
    {
      "cell_type": "code",
      "execution_count": 65,
      "metadata": {
        "collapsed": true,
        "id": "lKJ9lh5HRG2r"
      },
      "outputs": [],
      "source": [
        "frase2 = ' para qualquer cientista de dados'"
      ]
    },
    {
      "cell_type": "code",
      "execution_count": 66,
      "metadata": {
        "id": "Q1KkT-gpRG2r"
      },
      "outputs": [],
      "source": [
        "frase3 = frase1 + frase2"
      ]
    },
    {
      "cell_type": "code",
      "execution_count": 67,
      "metadata": {
        "collapsed": true,
        "id": "ck0WIuyRRG2r"
      },
      "outputs": [],
      "source": [
        "# Objeto String - Métodos"
      ]
    },
    {
      "cell_type": "code",
      "execution_count": 68,
      "metadata": {
        "collapsed": true,
        "id": "H7LsaHO1RG2r"
      },
      "outputs": [],
      "source": [
        "frase = 'Minerando Dados a maior comunidade de Data Science do Brasil.'"
      ]
    },
    {
      "cell_type": "code",
      "execution_count": 69,
      "metadata": {
        "colab": {
          "base_uri": "https://localhost:8080/"
        },
        "id": "WX4g-PqxRG2r",
        "outputId": "2db0ff6b-7ce8-45e8-c6b0-1a1a3dbb8df4"
      },
      "outputs": [
        {
          "output_type": "execute_result",
          "data": {
            "text/plain": [
              "1"
            ]
          },
          "metadata": {},
          "execution_count": 69
        }
      ],
      "source": [
        "frase.count('Dados')"
      ]
    },
    {
      "cell_type": "code",
      "execution_count": 70,
      "metadata": {
        "collapsed": true,
        "id": "m5E0xu72RG2r"
      },
      "outputs": [],
      "source": [
        "# A função lower()"
      ]
    },
    {
      "cell_type": "code",
      "execution_count": 71,
      "metadata": {
        "colab": {
          "base_uri": "https://localhost:8080/",
          "height": 36
        },
        "id": "jFQ8KQcLRG2r",
        "outputId": "573accda-b215-4da4-a120-6811e0e22429"
      },
      "outputs": [
        {
          "output_type": "execute_result",
          "data": {
            "text/plain": [
              "'minerando dados a maior comunidade de data science do brasil.'"
            ],
            "application/vnd.google.colaboratory.intrinsic+json": {
              "type": "string"
            }
          },
          "metadata": {},
          "execution_count": 71
        }
      ],
      "source": [
        "frase.lower()"
      ]
    },
    {
      "cell_type": "code",
      "execution_count": 72,
      "metadata": {
        "colab": {
          "base_uri": "https://localhost:8080/",
          "height": 36
        },
        "id": "h4jyLMzuRG2r",
        "outputId": "986e052c-a15f-48fd-bc99-fbfddc74ecb7"
      },
      "outputs": [
        {
          "output_type": "execute_result",
          "data": {
            "text/plain": [
              "'MINERANDO DADOS A MAIOR COMUNIDADE DE DATA SCIENCE DO BRASIL.'"
            ],
            "application/vnd.google.colaboratory.intrinsic+json": {
              "type": "string"
            }
          },
          "metadata": {},
          "execution_count": 72
        }
      ],
      "source": [
        "frase.upper()"
      ]
    },
    {
      "cell_type": "code",
      "execution_count": 73,
      "metadata": {
        "colab": {
          "base_uri": "https://localhost:8080/",
          "height": 36
        },
        "id": "GRVV_soLRG2s",
        "outputId": "5dbd0fbc-6374-44bf-8c20-936f18d79f95"
      },
      "outputs": [
        {
          "output_type": "execute_result",
          "data": {
            "text/plain": [
              "'Minerando dados a maior comunidade de data science do brasil.'"
            ],
            "application/vnd.google.colaboratory.intrinsic+json": {
              "type": "string"
            }
          },
          "metadata": {},
          "execution_count": 73
        }
      ],
      "source": [
        "frase.capitalize()"
      ]
    },
    {
      "cell_type": "code",
      "execution_count": 74,
      "metadata": {
        "colab": {
          "base_uri": "https://localhost:8080/"
        },
        "id": "3gOexXDyRG2s",
        "outputId": "d8a2f55f-e6f8-4724-d44b-655fd5296654"
      },
      "outputs": [
        {
          "output_type": "execute_result",
          "data": {
            "text/plain": [
              "False"
            ]
          },
          "metadata": {},
          "execution_count": 74
        }
      ],
      "source": [
        "frase.islower()"
      ]
    },
    {
      "cell_type": "code",
      "execution_count": 75,
      "metadata": {
        "colab": {
          "base_uri": "https://localhost:8080/"
        },
        "id": "fUOVQJeeRG2s",
        "outputId": "fd4a75e7-d20a-4b34-b4fe-66365a4be7fb"
      },
      "outputs": [
        {
          "output_type": "execute_result",
          "data": {
            "text/plain": [
              "['Minerando',\n",
              " 'Dados',\n",
              " 'a',\n",
              " 'maior',\n",
              " 'comunidade',\n",
              " 'de',\n",
              " 'Data',\n",
              " 'Science',\n",
              " 'do',\n",
              " 'Brasil.']"
            ]
          },
          "metadata": {},
          "execution_count": 75
        }
      ],
      "source": [
        "# Quebrando a string em uma lista de termos\n",
        "frase.split()"
      ]
    },
    {
      "cell_type": "markdown",
      "metadata": {
        "id": "iGRZi8QPRG2s"
      },
      "source": [
        "# Trabalhando com Listas"
      ]
    },
    {
      "cell_type": "code",
      "execution_count": 76,
      "metadata": {
        "colab": {
          "base_uri": "https://localhost:8080/"
        },
        "id": "CkzlwafxRG2s",
        "outputId": "22942c21-66ce-498b-db2b-b46771c40861"
      },
      "outputs": [
        {
          "output_type": "execute_result",
          "data": {
            "text/plain": [
              "[1, 2, 3]"
            ]
          },
          "metadata": {},
          "execution_count": 76
        }
      ],
      "source": [
        "# Sintaxe para criar listas no Python\n",
        "bixos = [1,2,3]\n",
        "bixos"
      ]
    },
    {
      "cell_type": "code",
      "execution_count": 77,
      "metadata": {
        "collapsed": true,
        "id": "eVsr-AWdRG2s"
      },
      "outputs": [],
      "source": [
        "# listas com tipos de dados diferentes\n",
        "bixos = ['dog','cat',122344545,13.9,[0,0,1]]"
      ]
    },
    {
      "cell_type": "code",
      "execution_count": 78,
      "metadata": {
        "colab": {
          "base_uri": "https://localhost:8080/"
        },
        "id": "o8n7TvXHRG2s",
        "outputId": "c14e7bcf-0f12-4e0a-8fe6-a643bbbef21c"
      },
      "outputs": [
        {
          "output_type": "execute_result",
          "data": {
            "text/plain": [
              "['dog', 'cat', 122344545, 13.9, [0, 0, 1]]"
            ]
          },
          "metadata": {},
          "execution_count": 78
        }
      ],
      "source": [
        "bixos"
      ]
    },
    {
      "cell_type": "code",
      "execution_count": 79,
      "metadata": {
        "collapsed": true,
        "id": "GlLrFdztRG2s"
      },
      "outputs": [],
      "source": [
        "# Indices de elementos"
      ]
    },
    {
      "cell_type": "code",
      "execution_count": 80,
      "metadata": {
        "colab": {
          "base_uri": "https://localhost:8080/",
          "height": 36
        },
        "id": "hsJ5QCMERG2t",
        "outputId": "a3f7b023-8671-4636-bf84-106915ef86d9"
      },
      "outputs": [
        {
          "output_type": "execute_result",
          "data": {
            "text/plain": [
              "'dog'"
            ],
            "application/vnd.google.colaboratory.intrinsic+json": {
              "type": "string"
            }
          },
          "metadata": {},
          "execution_count": 80
        }
      ],
      "source": [
        "bixos[0]"
      ]
    },
    {
      "cell_type": "code",
      "execution_count": 81,
      "metadata": {
        "colab": {
          "base_uri": "https://localhost:8080/"
        },
        "id": "ol-LjVUeRG2t",
        "outputId": "eec46cd7-c5f6-4e20-8429-828d4652a3ef"
      },
      "outputs": [
        {
          "output_type": "execute_result",
          "data": {
            "text/plain": [
              "13.9"
            ]
          },
          "metadata": {},
          "execution_count": 81
        }
      ],
      "source": [
        "bixos[3]"
      ]
    },
    {
      "cell_type": "code",
      "execution_count": 83,
      "metadata": {
        "collapsed": true,
        "id": "PLxEd_y3RG2t"
      },
      "outputs": [],
      "source": [
        "# Atualizando o valor 1 da lista\n",
        "bixos[0] = 'Horse'"
      ]
    },
    {
      "cell_type": "code",
      "execution_count": 84,
      "metadata": {
        "colab": {
          "base_uri": "https://localhost:8080/"
        },
        "id": "a2qces9jRG2t",
        "outputId": "4c9dc189-ffcd-4bc1-ebf7-103180a63cb1"
      },
      "outputs": [
        {
          "output_type": "execute_result",
          "data": {
            "text/plain": [
              "['Horse', 'cat', 122344545, 13.9, [0, 0, 1]]"
            ]
          },
          "metadata": {},
          "execution_count": 84
        }
      ],
      "source": [
        "bixos"
      ]
    },
    {
      "cell_type": "code",
      "execution_count": 85,
      "metadata": {
        "collapsed": true,
        "id": "YPjQB46yRG2t"
      },
      "outputs": [],
      "source": [
        "# Slicing em Listas"
      ]
    },
    {
      "cell_type": "code",
      "execution_count": 86,
      "metadata": {
        "colab": {
          "base_uri": "https://localhost:8080/"
        },
        "id": "y80UXwJIRG2t",
        "outputId": "cd8c62b4-763b-45e8-e7d2-2958e61eca83"
      },
      "outputs": [
        {
          "output_type": "execute_result",
          "data": {
            "text/plain": [
              "['cat', 122344545, 13.9, [0, 0, 1]]"
            ]
          },
          "metadata": {},
          "execution_count": 86
        }
      ],
      "source": [
        "bixos[1:]"
      ]
    },
    {
      "cell_type": "code",
      "execution_count": 87,
      "metadata": {
        "id": "p-ScY6ngRG2t"
      },
      "outputs": [],
      "source": [
        "# removendo elementos\n",
        "bixos.remove('cat')"
      ]
    },
    {
      "cell_type": "code",
      "execution_count": 88,
      "metadata": {
        "colab": {
          "base_uri": "https://localhost:8080/"
        },
        "id": "vtB6yG1KRG2t",
        "outputId": "f68a65b4-c62c-4521-aa9d-d1db5d5a1951"
      },
      "outputs": [
        {
          "output_type": "execute_result",
          "data": {
            "text/plain": [
              "['Horse', 122344545, 13.9, [0, 0, 1]]"
            ]
          },
          "metadata": {},
          "execution_count": 88
        }
      ],
      "source": [
        "bixos"
      ]
    },
    {
      "cell_type": "markdown",
      "metadata": {
        "id": "gxOIlTszRG2t"
      },
      "source": [
        "# Operações em Listas"
      ]
    },
    {
      "cell_type": "code",
      "execution_count": 89,
      "metadata": {
        "colab": {
          "base_uri": "https://localhost:8080/"
        },
        "id": "jnhUebBbRG2t",
        "outputId": "75b971a7-e020-4ee7-a963-70f04fd680f3"
      },
      "outputs": [
        {
          "output_type": "execute_result",
          "data": {
            "text/plain": [
              "4"
            ]
          },
          "metadata": {},
          "execution_count": 89
        }
      ],
      "source": [
        "len(bixos)"
      ]
    },
    {
      "cell_type": "code",
      "execution_count": 90,
      "metadata": {
        "collapsed": true,
        "id": "6StJ-innRG2t"
      },
      "outputs": [],
      "source": [
        "# Concatenando listas"
      ]
    },
    {
      "cell_type": "code",
      "execution_count": 91,
      "metadata": {
        "colab": {
          "base_uri": "https://localhost:8080/"
        },
        "id": "PnyrK5pRRG2u",
        "outputId": "84729880-345b-4fc4-94f8-1efe3b53e38c"
      },
      "outputs": [
        {
          "output_type": "execute_result",
          "data": {
            "text/plain": [
              "['Horse', 122344545, 13.9, [0, 0, 1], 200, 'Minerando', 'Dados']"
            ]
          },
          "metadata": {},
          "execution_count": 91
        }
      ],
      "source": [
        "bixos + [200,'Minerando','Dados']"
      ]
    },
    {
      "cell_type": "code",
      "execution_count": null,
      "metadata": {
        "collapsed": true,
        "id": "4IZ06PavRG2u"
      },
      "outputs": [],
      "source": [
        "# Check elementos"
      ]
    },
    {
      "cell_type": "code",
      "execution_count": 133,
      "metadata": {
        "colab": {
          "base_uri": "https://localhost:8080/"
        },
        "id": "DjUyzWimRG2u",
        "outputId": "aa6887e6-b4b2-46e9-cf85-ebe29932347e"
      },
      "outputs": [
        {
          "output_type": "execute_result",
          "data": {
            "text/plain": [
              "False"
            ]
          },
          "metadata": {},
          "execution_count": 133
        }
      ],
      "source": [
        "'cat' in bixos"
      ]
    },
    {
      "cell_type": "code",
      "execution_count": 134,
      "metadata": {
        "collapsed": true,
        "id": "M3oz6kk9RG2u"
      },
      "outputs": [],
      "source": [
        "# Valor máximo da lista"
      ]
    },
    {
      "cell_type": "code",
      "execution_count": 135,
      "metadata": {
        "colab": {
          "base_uri": "https://localhost:8080/",
          "height": 141
        },
        "id": "lHPfjGF0RG2u",
        "outputId": "2f550df1-a121-464c-b754-6d2285bab0f3"
      },
      "outputs": [
        {
          "output_type": "error",
          "ename": "TypeError",
          "evalue": "'>' not supported between instances of 'int' and 'str'",
          "traceback": [
            "\u001b[0;31m---------------------------------------------------------------------------\u001b[0m",
            "\u001b[0;31mTypeError\u001b[0m                                 Traceback (most recent call last)",
            "\u001b[0;32m<ipython-input-135-10a0f951af6b>\u001b[0m in \u001b[0;36m<cell line: 0>\u001b[0;34m()\u001b[0m\n\u001b[0;32m----> 1\u001b[0;31m \u001b[0mmax\u001b[0m\u001b[0;34m(\u001b[0m\u001b[0mbixos\u001b[0m\u001b[0;34m)\u001b[0m\u001b[0;34m\u001b[0m\u001b[0;34m\u001b[0m\u001b[0m\n\u001b[0m",
            "\u001b[0;31mTypeError\u001b[0m: '>' not supported between instances of 'int' and 'str'"
          ]
        }
      ],
      "source": [
        "max(bixos)"
      ]
    },
    {
      "cell_type": "code",
      "execution_count": 136,
      "metadata": {
        "collapsed": true,
        "id": "Lz9wf19CRG2u"
      },
      "outputs": [],
      "source": [
        "lista = [1,500,23,90,56788]"
      ]
    },
    {
      "cell_type": "code",
      "execution_count": 137,
      "metadata": {
        "colab": {
          "base_uri": "https://localhost:8080/"
        },
        "id": "zrhti5hkRG2u",
        "outputId": "42e88718-370b-4558-a509-02eedbefcfb6"
      },
      "outputs": [
        {
          "output_type": "execute_result",
          "data": {
            "text/plain": [
              "56788"
            ]
          },
          "metadata": {},
          "execution_count": 137
        }
      ],
      "source": [
        "max(lista)"
      ]
    },
    {
      "cell_type": "code",
      "execution_count": 138,
      "metadata": {
        "collapsed": true,
        "id": "FhcDEXDrRG2u"
      },
      "outputs": [],
      "source": [
        "# Valor mínimo da Lista"
      ]
    },
    {
      "cell_type": "code",
      "execution_count": 139,
      "metadata": {
        "colab": {
          "base_uri": "https://localhost:8080/"
        },
        "id": "T-EXYTLKRG2v",
        "outputId": "f8535a3e-b4bc-4c1e-c7f3-cca7a27e33f9"
      },
      "outputs": [
        {
          "output_type": "execute_result",
          "data": {
            "text/plain": [
              "1"
            ]
          },
          "metadata": {},
          "execution_count": 139
        }
      ],
      "source": [
        "min(lista)"
      ]
    },
    {
      "cell_type": "code",
      "execution_count": 140,
      "metadata": {
        "collapsed": true,
        "id": "7802fBdURG2v"
      },
      "outputs": [],
      "source": [
        "# Multiplicação de Elementos"
      ]
    },
    {
      "cell_type": "code",
      "execution_count": 141,
      "metadata": {
        "colab": {
          "base_uri": "https://localhost:8080/"
        },
        "id": "ddNvKqN4RG2v",
        "outputId": "3da3e97a-fd07-41aa-8a4e-7589aa673515"
      },
      "outputs": [
        {
          "output_type": "execute_result",
          "data": {
            "text/plain": [
              "['Olá', 'Olá', 'Olá']"
            ]
          },
          "metadata": {},
          "execution_count": 141
        }
      ],
      "source": [
        "['Olá'] * 3"
      ]
    },
    {
      "cell_type": "markdown",
      "metadata": {
        "id": "3C0izSGHRG2v"
      },
      "source": [
        "# Métodos em Listas"
      ]
    },
    {
      "cell_type": "code",
      "execution_count": 142,
      "metadata": {
        "colab": {
          "base_uri": "https://localhost:8080/",
          "height": 106
        },
        "id": "Wnfr797RRG2v",
        "outputId": "5ccc4e2c-2cf5-4f97-e70b-c7ad59cf5921"
      },
      "outputs": [
        {
          "output_type": "error",
          "ename": "SyntaxError",
          "evalue": "invalid syntax (<ipython-input-142-5a81711e956f>, line 2)",
          "traceback": [
            "\u001b[0;36m  File \u001b[0;32m\"<ipython-input-142-5a81711e956f>\"\u001b[0;36m, line \u001b[0;32m2\u001b[0m\n\u001b[0;31m    bixos.\u001b[0m\n\u001b[0m          ^\u001b[0m\n\u001b[0;31mSyntaxError\u001b[0m\u001b[0;31m:\u001b[0m invalid syntax\n"
          ]
        }
      ],
      "source": [
        "# È possivel visualizar os métodos existentes do objeto lista (digite o nome do objeto + . + tab)\n",
        "bixos."
      ]
    },
    {
      "cell_type": "code",
      "execution_count": 143,
      "metadata": {
        "collapsed": true,
        "id": "EiHENCxARG2v"
      },
      "outputs": [],
      "source": [
        "# Adiciona elemento na lista\n",
        "bixos.append('snake')"
      ]
    },
    {
      "cell_type": "code",
      "execution_count": 144,
      "metadata": {
        "colab": {
          "base_uri": "https://localhost:8080/"
        },
        "id": "sVxuN7nlRG2v",
        "outputId": "141d5bc7-ec74-492a-e061-14253aefb9d2"
      },
      "outputs": [
        {
          "output_type": "execute_result",
          "data": {
            "text/plain": [
              "['Horse', 122344545, 13.9, [0, 0, 1], 'snake']"
            ]
          },
          "metadata": {},
          "execution_count": 144
        }
      ],
      "source": [
        "bixos"
      ]
    },
    {
      "cell_type": "code",
      "execution_count": 145,
      "metadata": {
        "colab": {
          "base_uri": "https://localhost:8080/"
        },
        "id": "_oQej_FFRG2v",
        "outputId": "da2611d3-b9cd-4320-d98a-0ff2eb1fc486"
      },
      "outputs": [
        {
          "output_type": "execute_result",
          "data": {
            "text/plain": [
              "['Horse', 122344545, 13.9, [0, 0, 1], 'snake', 'lion', 10.5]"
            ]
          },
          "metadata": {},
          "execution_count": 145
        }
      ],
      "source": [
        "# Extende a lista com mais de um elemento.\n",
        "bixos.extend(['lion',10.5])\n",
        "bixos"
      ]
    },
    {
      "cell_type": "code",
      "execution_count": 146,
      "metadata": {
        "colab": {
          "base_uri": "https://localhost:8080/"
        },
        "id": "qwXzhEdXRG2w",
        "outputId": "e8ae82b6-fc04-4ee3-cf82-e68cd71d415e"
      },
      "outputs": [
        {
          "output_type": "execute_result",
          "data": {
            "text/plain": [
              "4"
            ]
          },
          "metadata": {},
          "execution_count": 146
        }
      ],
      "source": [
        "bixos.index('snake')"
      ]
    },
    {
      "cell_type": "code",
      "execution_count": 147,
      "metadata": {
        "collapsed": true,
        "id": "LsYdN2esRG2w"
      },
      "outputs": [],
      "source": [
        "bixos.remove('snake')"
      ]
    },
    {
      "cell_type": "code",
      "execution_count": 148,
      "metadata": {
        "colab": {
          "base_uri": "https://localhost:8080/"
        },
        "id": "R3K20fVgRG2w",
        "outputId": "9d966316-dd67-4417-89c6-a37e005ab5b2"
      },
      "outputs": [
        {
          "output_type": "execute_result",
          "data": {
            "text/plain": [
              "0"
            ]
          },
          "metadata": {},
          "execution_count": 148
        }
      ],
      "source": [
        "bixos.count('dog')"
      ]
    },
    {
      "cell_type": "code",
      "execution_count": 149,
      "metadata": {
        "colab": {
          "base_uri": "https://localhost:8080/",
          "height": 141
        },
        "id": "6gdbbA4HRG2w",
        "outputId": "917ce781-13d5-4c14-f348-67e0ae27c2a1"
      },
      "outputs": [
        {
          "output_type": "error",
          "ename": "TypeError",
          "evalue": "'<' not supported between instances of 'int' and 'str'",
          "traceback": [
            "\u001b[0;31m---------------------------------------------------------------------------\u001b[0m",
            "\u001b[0;31mTypeError\u001b[0m                                 Traceback (most recent call last)",
            "\u001b[0;32m<ipython-input-149-8d1e6071d8a7>\u001b[0m in \u001b[0;36m<cell line: 0>\u001b[0;34m()\u001b[0m\n\u001b[0;32m----> 1\u001b[0;31m \u001b[0mbixos\u001b[0m\u001b[0;34m.\u001b[0m\u001b[0msort\u001b[0m\u001b[0;34m(\u001b[0m\u001b[0;34m)\u001b[0m\u001b[0;34m\u001b[0m\u001b[0;34m\u001b[0m\u001b[0m\n\u001b[0m",
            "\u001b[0;31mTypeError\u001b[0m: '<' not supported between instances of 'int' and 'str'"
          ]
        }
      ],
      "source": [
        "bixos.sort()"
      ]
    },
    {
      "cell_type": "code",
      "execution_count": 150,
      "metadata": {
        "collapsed": true,
        "id": "PDsFiQPCRG2w"
      },
      "outputs": [],
      "source": [
        "# Ordenação de lista de inteiros\n",
        "lista = [1,500,23,90,56788]\n",
        "lista2 = ['casa','rio','lua','agua']"
      ]
    },
    {
      "cell_type": "code",
      "execution_count": 151,
      "metadata": {
        "colab": {
          "base_uri": "https://localhost:8080/"
        },
        "id": "wWYkwA4mRG2w",
        "outputId": "8c5ac114-e120-4636-9d2d-8553bcb6d697"
      },
      "outputs": [
        {
          "output_type": "execute_result",
          "data": {
            "text/plain": [
              "[1, 23, 90, 500, 56788]"
            ]
          },
          "metadata": {},
          "execution_count": 151
        }
      ],
      "source": [
        "lista.sort()\n",
        "lista"
      ]
    },
    {
      "cell_type": "markdown",
      "metadata": {
        "id": "l8Nk1LkxRG2x"
      },
      "source": [
        "# Lista Aninhadas"
      ]
    },
    {
      "cell_type": "code",
      "execution_count": 152,
      "metadata": {
        "id": "Dhn8yHFhRG2x"
      },
      "outputs": [],
      "source": [
        "# lista que contém 3 listas\n",
        "listas = [ ['cat','dog','snake'], ['Audi','Ferrari','Porsche'], [10,100,200] ]"
      ]
    },
    {
      "cell_type": "code",
      "execution_count": 153,
      "metadata": {
        "colab": {
          "base_uri": "https://localhost:8080/"
        },
        "id": "nP_j5J2fRG2x",
        "outputId": "60f90431-84ce-4ce8-d41d-381538be41e8"
      },
      "outputs": [
        {
          "output_type": "execute_result",
          "data": {
            "text/plain": [
              "[['cat', 'dog', 'snake'], ['Audi', 'Ferrari', 'Porsche'], [10, 100, 200]]"
            ]
          },
          "metadata": {},
          "execution_count": 153
        }
      ],
      "source": [
        "listas"
      ]
    },
    {
      "cell_type": "code",
      "execution_count": 154,
      "metadata": {
        "colab": {
          "base_uri": "https://localhost:8080/"
        },
        "id": "yO2qZZy1RG2x",
        "outputId": "edee689a-95ec-4981-e3d3-eb241e0c192e"
      },
      "outputs": [
        {
          "output_type": "execute_result",
          "data": {
            "text/plain": [
              "['cat', 'dog', 'snake']"
            ]
          },
          "metadata": {},
          "execution_count": 154
        }
      ],
      "source": [
        "# Imprimindo o primeiro elemento (lista de animais)\n",
        "listas[0]"
      ]
    },
    {
      "cell_type": "code",
      "execution_count": 155,
      "metadata": {
        "colab": {
          "base_uri": "https://localhost:8080/"
        },
        "id": "hxC-kL4DRG2y",
        "outputId": "32982577-8c39-43f8-b329-e2d0e800d6b0"
      },
      "outputs": [
        {
          "output_type": "execute_result",
          "data": {
            "text/plain": [
              "['Audi', 'Ferrari', 'Porsche']"
            ]
          },
          "metadata": {},
          "execution_count": 155
        }
      ],
      "source": [
        "# Imprimindo o segundo elemento (lista de carros)\n",
        "listas[1]"
      ]
    },
    {
      "cell_type": "code",
      "execution_count": 156,
      "metadata": {
        "colab": {
          "base_uri": "https://localhost:8080/"
        },
        "id": "JFk3wO6-RG2y",
        "outputId": "9e4e25c2-d1b5-43f9-a9f2-47ebaa8c2b5a"
      },
      "outputs": [
        {
          "output_type": "execute_result",
          "data": {
            "text/plain": [
              "[10, 100, 200]"
            ]
          },
          "metadata": {},
          "execution_count": 156
        }
      ],
      "source": [
        "# Imprimindo o terceiro elemento (lista de inteiros)\n",
        "listas[2]"
      ]
    },
    {
      "cell_type": "code",
      "execution_count": 157,
      "metadata": {
        "colab": {
          "base_uri": "https://localhost:8080/",
          "height": 36
        },
        "id": "-qriCTh0RG2y",
        "outputId": "b690df17-6ebe-4f0b-d913-be1a518133ee"
      },
      "outputs": [
        {
          "output_type": "execute_result",
          "data": {
            "text/plain": [
              "'Audi'"
            ],
            "application/vnd.google.colaboratory.intrinsic+json": {
              "type": "string"
            }
          },
          "metadata": {},
          "execution_count": 157
        }
      ],
      "source": [
        "# Imprimindo o 1 carro da lista de carros\n",
        "listas[1][0]"
      ]
    },
    {
      "cell_type": "code",
      "execution_count": 158,
      "metadata": {
        "colab": {
          "base_uri": "https://localhost:8080/",
          "height": 36
        },
        "id": "ce-BVpzTRG2z",
        "outputId": "8dc01934-8571-499e-e4eb-ee085b1dd67b"
      },
      "outputs": [
        {
          "output_type": "execute_result",
          "data": {
            "text/plain": [
              "'Ferrari'"
            ],
            "application/vnd.google.colaboratory.intrinsic+json": {
              "type": "string"
            }
          },
          "metadata": {},
          "execution_count": 158
        }
      ],
      "source": [
        "# Imprimindo o 2 carro da lista de carros\n",
        "listas[1][1]"
      ]
    },
    {
      "cell_type": "code",
      "execution_count": null,
      "metadata": {
        "id": "QnJthanwRG2z",
        "outputId": "d900f2e6-7314-4975-d70d-469bc786d54d"
      },
      "outputs": [
        {
          "data": {
            "text/plain": [
              "200"
            ]
          },
          "execution_count": 8,
          "metadata": {},
          "output_type": "execute_result"
        }
      ],
      "source": [
        "# Imprimindo o ultimo valor da lista de numeros\n",
        "listas[2][2]"
      ]
    },
    {
      "cell_type": "code",
      "execution_count": 159,
      "metadata": {
        "id": "17b1Qav6RG2z"
      },
      "outputs": [],
      "source": [
        "# Operacão de repetição de elementos de linhas alinhadas. listas[0] * 3"
      ]
    },
    {
      "cell_type": "code",
      "execution_count": null,
      "metadata": {
        "id": "Yl2uZhRtRG2z",
        "outputId": "283cf2c9-88a0-436f-c75d-cca8d1c6a413"
      },
      "outputs": [
        {
          "data": {
            "text/plain": [
              "[['cat', 'dog', 'snake'], ['Audi', 'Ferrari', 'Porsche'], [10, 100, 200]]"
            ]
          },
          "execution_count": 10,
          "metadata": {},
          "output_type": "execute_result"
        }
      ],
      "source": [
        "listas"
      ]
    }
  ],
  "metadata": {
    "kernelspec": {
      "display_name": "Python 3",
      "language": "python",
      "name": "python3"
    },
    "language_info": {
      "codemirror_mode": {
        "name": "ipython",
        "version": 3
      },
      "file_extension": ".py",
      "mimetype": "text/x-python",
      "name": "python",
      "nbconvert_exporter": "python",
      "pygments_lexer": "ipython3",
      "version": "3.7.3"
    },
    "colab": {
      "provenance": []
    }
  },
  "nbformat": 4,
  "nbformat_minor": 0
}