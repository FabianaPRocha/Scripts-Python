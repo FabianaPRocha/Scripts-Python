{
  "cells": [
    {
      "cell_type": "markdown",
      "metadata": {
        "id": "cVi9LfHEjwTl"
      },
      "source": [
        "# Trabalhando com Dicionários"
      ]
    },
    {
      "cell_type": "code",
      "execution_count": 1,
      "metadata": {
        "colab": {
          "base_uri": "https://localhost:8080/"
        },
        "id": "I7cHICyqjwTm",
        "outputId": "75510410-b5ff-40a7-fd00-d22647530ce3"
      },
      "outputs": [
        {
          "output_type": "execute_result",
          "data": {
            "text/plain": [
              "dict"
            ]
          },
          "metadata": {},
          "execution_count": 1
        }
      ],
      "source": [
        "# Criando um Dicionário as {} são as principais diferenças\n",
        "dic = {}\n",
        "type(dic)"
      ]
    },
    {
      "cell_type": "code",
      "execution_count": 2,
      "metadata": {
        "colab": {
          "base_uri": "https://localhost:8080/"
        },
        "id": "A_xRCHrrjwTn",
        "outputId": "828e41a7-3e79-4399-be82-6bc7c75e9a65"
      },
      "outputs": [
        {
          "output_type": "execute_result",
          "data": {
            "text/plain": [
              "{'Rodrigo': 30,\n",
              " 'Marcela': 30,\n",
              " 'Maria': 55,\n",
              " 'Jose': 80,\n",
              " 'pesos': {'Rodrigo': 68, 'Maria': 70, 'Jose': 87},\n",
              " 'Valores': [1, 3.5, 400, 5, 6],\n",
              " 'Strings': ['MinerandoDados.com.br', 'Data Science', 'Machine Learning']}"
            ]
          },
          "metadata": {},
          "execution_count": 2
        }
      ],
      "source": [
        "# Os dicionários trabalham com o conceito de \"chave:valor\"\n",
        "# Dicionários podem conter outros dicionários e listas\n",
        "pessoas = {'Rodrigo':30, 'Marcela':30, 'Maria':55, 'Jose':80,\n",
        "           'pesos':{'Rodrigo':68,'Maria':70,'Jose':87},\n",
        "           'Valores':[1,3.5,400,5,6],\n",
        "           'Strings': ['MinerandoDados.com.br','Data Science','Machine Learning']\n",
        "           }\n",
        "pessoas"
      ]
    },
    {
      "cell_type": "code",
      "execution_count": 3,
      "metadata": {
        "colab": {
          "base_uri": "https://localhost:8080/"
        },
        "id": "tdz0d44rjwTn",
        "outputId": "e5e0d488-0054-4bf2-927e-b0040527a4b4"
      },
      "outputs": [
        {
          "output_type": "execute_result",
          "data": {
            "text/plain": [
              "80"
            ]
          },
          "metadata": {},
          "execution_count": 3
        }
      ],
      "source": [
        "# Acessando os valores de um dicionario a partir das chaves\n",
        "pessoas['Jose']"
      ]
    },
    {
      "cell_type": "code",
      "execution_count": 4,
      "metadata": {
        "colab": {
          "base_uri": "https://localhost:8080/",
          "height": 158
        },
        "id": "BNQ2zIn8jwTo",
        "outputId": "a0eaa4b0-2600-4e4a-ae5b-0d8a85d8a47f"
      },
      "outputs": [
        {
          "output_type": "error",
          "ename": "KeyError",
          "evalue": "'Luiz'",
          "traceback": [
            "\u001b[0;31m---------------------------------------------------------------------------\u001b[0m",
            "\u001b[0;31mKeyError\u001b[0m                                  Traceback (most recent call last)",
            "\u001b[0;32m<ipython-input-4-d7a7e1b98cda>\u001b[0m in \u001b[0;36m<cell line: 0>\u001b[0;34m()\u001b[0m\n\u001b[1;32m      1\u001b[0m \u001b[0;31m# Chave não encontrada\u001b[0m\u001b[0;34m\u001b[0m\u001b[0;34m\u001b[0m\u001b[0m\n\u001b[0;32m----> 2\u001b[0;31m \u001b[0mpessoas\u001b[0m\u001b[0;34m[\u001b[0m\u001b[0;34m'Luiz'\u001b[0m\u001b[0;34m]\u001b[0m\u001b[0;34m\u001b[0m\u001b[0;34m\u001b[0m\u001b[0m\n\u001b[0m",
            "\u001b[0;31mKeyError\u001b[0m: 'Luiz'"
          ]
        }
      ],
      "source": [
        "# Chave não encontrada\n",
        "pessoas['Luiz']"
      ]
    },
    {
      "cell_type": "code",
      "execution_count": 5,
      "metadata": {
        "colab": {
          "base_uri": "https://localhost:8080/"
        },
        "id": "L-qfo36vjwTo",
        "outputId": "5885ca5d-f251-4775-950f-0fed8b7c13c1"
      },
      "outputs": [
        {
          "output_type": "execute_result",
          "data": {
            "text/plain": [
              "68"
            ]
          },
          "metadata": {},
          "execution_count": 5
        }
      ],
      "source": [
        "# Acessando dicionario aninhado\n",
        "pessoas['pesos']['Rodrigo']"
      ]
    },
    {
      "cell_type": "code",
      "execution_count": 6,
      "metadata": {
        "colab": {
          "base_uri": "https://localhost:8080/",
          "height": 36
        },
        "id": "FIkW-hUYjwTo",
        "outputId": "413824b9-e9dd-4c2c-fd66-4fdf03e8b75b"
      },
      "outputs": [
        {
          "output_type": "execute_result",
          "data": {
            "text/plain": [
              "'Machine Learning'"
            ],
            "application/vnd.google.colaboratory.intrinsic+json": {
              "type": "string"
            }
          },
          "metadata": {},
          "execution_count": 6
        }
      ],
      "source": [
        "# Acessando lista dentro do dicionário\n",
        "pessoas['Strings'][2]"
      ]
    },
    {
      "cell_type": "markdown",
      "metadata": {
        "id": "AFvkbbWajwTo"
      },
      "source": [
        "# Atualizando Dicionários"
      ]
    },
    {
      "cell_type": "code",
      "execution_count": 7,
      "metadata": {
        "colab": {
          "base_uri": "https://localhost:8080/"
        },
        "id": "VALw_bLTjwTp",
        "outputId": "bd4881d5-617f-41e2-f6a0-782359a5ce2e"
      },
      "outputs": [
        {
          "output_type": "execute_result",
          "data": {
            "text/plain": [
              "{'Rodrigo': 30,\n",
              " 'Marcela': 30,\n",
              " 'Maria': 55,\n",
              " 'Jose': 80,\n",
              " 'pesos': {'Rodrigo': 68, 'Maria': 70, 'Jose': 87},\n",
              " 'Valores': [1, 3.5, 400, 5, 6],\n",
              " 'Strings': ['MinerandoDados.com.br', 'Data Science', 'Machine Learning']}"
            ]
          },
          "metadata": {},
          "execution_count": 7
        }
      ],
      "source": [
        "pessoas"
      ]
    },
    {
      "cell_type": "code",
      "execution_count": 8,
      "metadata": {
        "colab": {
          "base_uri": "https://localhost:8080/"
        },
        "id": "qs6bwGQWjwTp",
        "outputId": "4a8319ee-b05b-4623-8f59-a9fe23fd0891"
      },
      "outputs": [
        {
          "output_type": "execute_result",
          "data": {
            "text/plain": [
              "31"
            ]
          },
          "metadata": {},
          "execution_count": 8
        }
      ],
      "source": [
        "# Atualizando o valor de uma chave\n",
        "pessoas['Rodrigo']= 31\n",
        "pessoas['Rodrigo']"
      ]
    },
    {
      "cell_type": "code",
      "execution_count": 10,
      "metadata": {
        "colab": {
          "base_uri": "https://localhost:8080/"
        },
        "id": "f83ghS24jwTp",
        "outputId": "d95001a5-a78b-4fa6-e503-f651f34b2499"
      },
      "outputs": [
        {
          "output_type": "execute_result",
          "data": {
            "text/plain": [
              "45"
            ]
          },
          "metadata": {},
          "execution_count": 10
        }
      ],
      "source": [
        "# Adicionando chaves e valores aos dicionários\n",
        "pessoas['Luiz'] = 45\n",
        "pessoas['Luiz']"
      ]
    },
    {
      "cell_type": "code",
      "execution_count": 11,
      "metadata": {
        "colab": {
          "base_uri": "https://localhost:8080/"
        },
        "id": "sqlojBDQjwTp",
        "outputId": "8fc90954-1a95-4826-c634-d42221cf2301"
      },
      "outputs": [
        {
          "output_type": "execute_result",
          "data": {
            "text/plain": [
              "{'Rodrigo': 31,\n",
              " 'Marcela': 30,\n",
              " 'Maria': 55,\n",
              " 'Jose': 80,\n",
              " 'pesos': {'Rodrigo': 68, 'Maria': 70, 'Jose': 87},\n",
              " 'Valores': [1, 3.5, 400, 5, 6],\n",
              " 'Strings': ['MinerandoDados.com.br', 'Data Science', 'Machine Learning']}"
            ]
          },
          "metadata": {},
          "execution_count": 11
        }
      ],
      "source": [
        "# Apaga elementos do dicionário\n",
        "del pessoas['Luiz']\n",
        "pessoas"
      ]
    },
    {
      "cell_type": "markdown",
      "metadata": {
        "id": "wDi_DYRWjwTq"
      },
      "source": [
        "# Métodos disponíveis"
      ]
    },
    {
      "cell_type": "code",
      "execution_count": 12,
      "metadata": {
        "collapsed": true,
        "colab": {
          "base_uri": "https://localhost:8080/",
          "height": 106
        },
        "id": "DLt1Xou5jwTq",
        "outputId": "35dc8ee9-4b65-4b39-c4e1-7acbd3960c9a"
      },
      "outputs": [
        {
          "output_type": "error",
          "ename": "SyntaxError",
          "evalue": "invalid syntax (<ipython-input-12-d4ac64ee5bfe>, line 2)",
          "traceback": [
            "\u001b[0;36m  File \u001b[0;32m\"<ipython-input-12-d4ac64ee5bfe>\"\u001b[0;36m, line \u001b[0;32m2\u001b[0m\n\u001b[0;31m    pessoas.\u001b[0m\n\u001b[0m            ^\u001b[0m\n\u001b[0;31mSyntaxError\u001b[0m\u001b[0;31m:\u001b[0m invalid syntax\n"
          ]
        }
      ],
      "source": [
        "# Métodos disponiveis, pressione . e a tecla tab\n",
        "pessoas."
      ]
    },
    {
      "cell_type": "code",
      "execution_count": 13,
      "metadata": {
        "colab": {
          "base_uri": "https://localhost:8080/"
        },
        "id": "Y2Z9cSqJjwTq",
        "outputId": "4fe675f2-3f27-411a-e3a7-cae204133338"
      },
      "outputs": [
        {
          "output_type": "execute_result",
          "data": {
            "text/plain": [
              "dict_keys(['Rodrigo', 'Marcela', 'Maria', 'Jose', 'pesos', 'Valores', 'Strings'])"
            ]
          },
          "metadata": {},
          "execution_count": 13
        }
      ],
      "source": [
        "# Retorna todas as Chaves do Dicionário\n",
        "pessoas.keys()"
      ]
    },
    {
      "cell_type": "code",
      "execution_count": 14,
      "metadata": {
        "colab": {
          "base_uri": "https://localhost:8080/"
        },
        "id": "88aqEosTjwTq",
        "outputId": "8826ad90-8210-41dd-d3b7-0c25fdffab8b"
      },
      "outputs": [
        {
          "output_type": "execute_result",
          "data": {
            "text/plain": [
              "dict_values([31, 30, 55, 80, {'Rodrigo': 68, 'Maria': 70, 'Jose': 87}, [1, 3.5, 400, 5, 6], ['MinerandoDados.com.br', 'Data Science', 'Machine Learning']])"
            ]
          },
          "metadata": {},
          "execution_count": 14
        }
      ],
      "source": [
        "# Retorna os Valores de todas as chaves\n",
        "pessoas.values()"
      ]
    },
    {
      "cell_type": "code",
      "execution_count": 15,
      "metadata": {
        "collapsed": true,
        "id": "4UU2NvVzjwTq"
      },
      "outputs": [],
      "source": [
        "# Criando um segundo dicionario\n",
        "pessoas2 = {'Norma':69, 'Eliana':61}"
      ]
    },
    {
      "cell_type": "code",
      "execution_count": 16,
      "metadata": {
        "colab": {
          "base_uri": "https://localhost:8080/"
        },
        "id": "twFqzAVpjwTq",
        "outputId": "5613ec3b-9679-4b2f-c769-a26e13d12533"
      },
      "outputs": [
        {
          "output_type": "execute_result",
          "data": {
            "text/plain": [
              "{'Norma': 69, 'Eliana': 61}"
            ]
          },
          "metadata": {},
          "execution_count": 16
        }
      ],
      "source": [
        "pessoas2"
      ]
    },
    {
      "cell_type": "code",
      "execution_count": 17,
      "metadata": {
        "colab": {
          "base_uri": "https://localhost:8080/"
        },
        "id": "9W146GaCjwTq",
        "outputId": "81fad029-5ffe-4950-8614-d99f7b1aceb6"
      },
      "outputs": [
        {
          "output_type": "execute_result",
          "data": {
            "text/plain": [
              "{'Rodrigo': 31,\n",
              " 'Marcela': 30,\n",
              " 'Maria': 55,\n",
              " 'Jose': 80,\n",
              " 'pesos': {'Rodrigo': 68, 'Maria': 70, 'Jose': 87},\n",
              " 'Valores': [1, 3.5, 400, 5, 6],\n",
              " 'Strings': ['MinerandoDados.com.br', 'Data Science', 'Machine Learning'],\n",
              " 'Norma': 69,\n",
              " 'Eliana': 61}"
            ]
          },
          "metadata": {},
          "execution_count": 17
        }
      ],
      "source": [
        "# Atualiza o primeiro dicionário adicionando elementos do segundo\n",
        "pessoas.update(pessoas2)\n",
        "pessoas"
      ]
    },
    {
      "cell_type": "code",
      "execution_count": 18,
      "metadata": {
        "colab": {
          "base_uri": "https://localhost:8080/"
        },
        "id": "L3qA22k9jwTq",
        "outputId": "9ea400ee-7fa9-4cc1-8e22-0ac90dbedcbb"
      },
      "outputs": [
        {
          "output_type": "execute_result",
          "data": {
            "text/plain": [
              "31"
            ]
          },
          "metadata": {},
          "execution_count": 18
        }
      ],
      "source": [
        "# Retorna o valor da chave caso ela exista, senão retorna o valor do parâmetro.\n",
        "pessoas.get('Rodrigo','Não_Existe')"
      ]
    },
    {
      "cell_type": "code",
      "execution_count": 19,
      "metadata": {
        "colab": {
          "base_uri": "https://localhost:8080/"
        },
        "id": "xP-Nanj3jwTq",
        "outputId": "cdcff9f8-4d3e-42ec-dcd7-64f0d04106a2"
      },
      "outputs": [
        {
          "output_type": "execute_result",
          "data": {
            "text/plain": [
              "30"
            ]
          },
          "metadata": {},
          "execution_count": 19
        }
      ],
      "source": [
        "# Retorna o valor da chave caso ela exista, senão inseri a chave e o valor no dicionário.\n",
        "pessoas.setdefault('Marcos',30)"
      ]
    },
    {
      "cell_type": "code",
      "execution_count": 20,
      "metadata": {
        "colab": {
          "base_uri": "https://localhost:8080/"
        },
        "id": "uqaTaHlYjwTq",
        "outputId": "dfe68cf2-62cd-413d-fb45-2bf745f17d3d"
      },
      "outputs": [
        {
          "output_type": "execute_result",
          "data": {
            "text/plain": [
              "{'Rodrigo': 31,\n",
              " 'Marcela': 30,\n",
              " 'Maria': 55,\n",
              " 'Jose': 80,\n",
              " 'pesos': {'Rodrigo': 68, 'Maria': 70, 'Jose': 87},\n",
              " 'Valores': [1, 3.5, 400, 5, 6],\n",
              " 'Strings': ['MinerandoDados.com.br', 'Data Science', 'Machine Learning'],\n",
              " 'Norma': 69,\n",
              " 'Eliana': 61,\n",
              " 'Marcos': 30}"
            ]
          },
          "metadata": {},
          "execution_count": 20
        }
      ],
      "source": [
        "pessoas"
      ]
    },
    {
      "cell_type": "code",
      "execution_count": 21,
      "metadata": {
        "colab": {
          "base_uri": "https://localhost:8080/"
        },
        "id": "T8SXdwiJjwTq",
        "outputId": "a7e05421-a80a-4042-8de3-0485dff75ae6"
      },
      "outputs": [
        {
          "output_type": "execute_result",
          "data": {
            "text/plain": [
              "31"
            ]
          },
          "metadata": {},
          "execution_count": 21
        }
      ],
      "source": [
        "# Retorna o valor da chave e removi esta. Se não for encontrada retorna o valor passado por parâmetro.\n",
        "pessoas.pop('Rodrigo','Essa chave já foi removida')"
      ]
    },
    {
      "cell_type": "code",
      "execution_count": 22,
      "metadata": {
        "colab": {
          "base_uri": "https://localhost:8080/"
        },
        "id": "ZvKc_654jwTr",
        "outputId": "f6a81d45-595a-478e-a0db-0fb02c8ea23a"
      },
      "outputs": [
        {
          "output_type": "execute_result",
          "data": {
            "text/plain": [
              "{'Marcela': 30,\n",
              " 'Maria': 55,\n",
              " 'Jose': 80,\n",
              " 'pesos': {'Rodrigo': 68, 'Maria': 70, 'Jose': 87},\n",
              " 'Valores': [1, 3.5, 400, 5, 6],\n",
              " 'Strings': ['MinerandoDados.com.br', 'Data Science', 'Machine Learning'],\n",
              " 'Norma': 69,\n",
              " 'Eliana': 61,\n",
              " 'Marcos': 30}"
            ]
          },
          "metadata": {},
          "execution_count": 22
        }
      ],
      "source": [
        "# Visualize o dicionario.\n",
        "pessoas"
      ]
    },
    {
      "cell_type": "code",
      "execution_count": 23,
      "metadata": {
        "collapsed": true,
        "id": "sFiLqYy_jwTr"
      },
      "outputs": [],
      "source": [
        "# Apaga o conteúdo do dicionário\n",
        "pessoas.clear()"
      ]
    },
    {
      "cell_type": "code",
      "execution_count": 24,
      "metadata": {
        "colab": {
          "base_uri": "https://localhost:8080/"
        },
        "id": "f21ZL9isjwTr",
        "outputId": "ea0b6a2f-17d1-4962-d6e7-4e7bc3300f0c"
      },
      "outputs": [
        {
          "output_type": "execute_result",
          "data": {
            "text/plain": [
              "{}"
            ]
          },
          "metadata": {},
          "execution_count": 24
        }
      ],
      "source": [
        "pessoas"
      ]
    }
  ],
  "metadata": {
    "kernelspec": {
      "display_name": "Python 3",
      "language": "python",
      "name": "python3"
    },
    "language_info": {
      "codemirror_mode": {
        "name": "ipython",
        "version": 3
      },
      "file_extension": ".py",
      "mimetype": "text/x-python",
      "name": "python",
      "nbconvert_exporter": "python",
      "pygments_lexer": "ipython3",
      "version": "3.7.3"
    },
    "colab": {
      "provenance": []
    }
  },
  "nbformat": 4,
  "nbformat_minor": 0
}